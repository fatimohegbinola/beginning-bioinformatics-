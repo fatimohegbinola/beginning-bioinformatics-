{
  "nbformat": 4,
  "nbformat_minor": 0,
  "metadata": {
    "colab": {
      "provenance": [],
      "collapsed_sections": [
        "jYlnA2Z2FhoW",
        "qRj8vCvXG-1k",
        "s7deJQCHHwOa",
        "GtjxkNHWN5Xo",
        "3yswDberkE7N",
        "4IM-9eAGkPdi",
        "nlBbe3qBRH_J",
        "_F9KCUzCd3ID",
        "iHFNxm30lzic",
        "sOgq54Op4MZL",
        "R5_dYi9f6t1z",
        "LdtXZ0LW9ugo",
        "i4Fo-ddSKWwy",
        "iupO8iI-ZYAe",
        "lY924yM0jckW",
        "NvqGEl4JjpiO",
        "DHzE7CI4lWGw",
        "WD5wnvQkmh6E",
        "kApNvgOLn8lp",
        "kq9QbEttnA4h"
      ],
      "include_colab_link": true
    },
    "kernelspec": {
      "name": "python3",
      "display_name": "Python 3"
    },
    "language_info": {
      "name": "python"
    }
  },
  "cells": [
    {
      "cell_type": "markdown",
      "metadata": {
        "id": "view-in-github",
        "colab_type": "text"
      },
      "source": [
        "<a href=\"https://colab.research.google.com/github/fatimohegbinola/beginning-bioinformatics-/blob/main/notebooks%20/Bioinformatics_Module03.ipynb\" target=\"_parent\"><img src=\"https://colab.research.google.com/assets/colab-badge.svg\" alt=\"Open In Colab\"/></a>"
      ]
    },
    {
      "cell_type": "markdown",
      "source": [
        "# **<font color=blue>P2. </font>**```print()```writes to standard output (i.e. prints output to the screen)"
      ],
      "metadata": {
        "id": "jYlnA2Z2FhoW"
      }
    },
    {
      "cell_type": "markdown",
      "source": [
        "####**TASK P2.1:** Print <font color = magenta>hello world</font>"
      ],
      "metadata": {
        "id": "r118fqQodA9x"
      }
    },
    {
      "cell_type": "code",
      "source": [
        "print(\"hello world\")"
      ],
      "metadata": {
        "id": "kvxK8D5uFx_x",
        "colab": {
          "base_uri": "https://localhost:8080/"
        },
        "outputId": "29818c9a-a426-43b0-bfc8-d18f6d5d0200"
      },
      "execution_count": null,
      "outputs": [
        {
          "output_type": "stream",
          "name": "stdout",
          "text": [
            "hello world\n"
          ]
        }
      ]
    },
    {
      "cell_type": "markdown",
      "source": [
        "# **<font color=blue>P3. </font>**```=``` is the ASSIGNMENT operator (assigns values to variables)\n",
        "####**TASK P3.1:** Ask Gemini, \"*Give me 3 examples to help practice understanding the assignment operator.*\""
      ],
      "metadata": {
        "id": "qRj8vCvXG-1k"
      }
    },
    {
      "cell_type": "code",
      "source": [
        "x=5\n",
        "x"
      ],
      "metadata": {
        "id": "VB8HPNe7JpuJ",
        "colab": {
          "base_uri": "https://localhost:8080/"
        },
        "outputId": "e8757ac9-e3cb-4331-9f35-b12c8cfc105c"
      },
      "execution_count": null,
      "outputs": [
        {
          "output_type": "execute_result",
          "data": {
            "text/plain": [
              "5"
            ]
          },
          "metadata": {},
          "execution_count": 3
        }
      ]
    },
    {
      "cell_type": "code",
      "source": [
        "# Example 1: Simple assignment\n",
        "age = 30\n",
        "print(age)\n",
        "\n",
        "# Example 2: Assigning the value of another variable\n",
        "score1 = 100\n",
        "score2 = score1\n",
        "print(score2)\n",
        "\n",
        "# Example 3: Assigning the result of an expression\n",
        "width = 10\n",
        "height = 5\n",
        "area = width * height\n",
        "print(area)"
      ],
      "metadata": {
        "colab": {
          "base_uri": "https://localhost:8080/"
        },
        "id": "C6MnQ0R82M0e",
        "outputId": "0854472e-a718-489a-b027-9a0c1206b859"
      },
      "execution_count": null,
      "outputs": [
        {
          "output_type": "stream",
          "name": "stdout",
          "text": [
            "30\n",
            "100\n",
            "50\n"
          ]
        }
      ]
    },
    {
      "cell_type": "markdown",
      "source": [],
      "metadata": {
        "id": "chtWoxFQ2VEi"
      }
    },
    {
      "cell_type": "markdown",
      "source": [
        "# **<font color=blue>P4. </font>** Data types: use ```type()``` to find a variable's \"type\"\n",
        "####**TASK P4.1:** Ask Gemini, \"*Give me examples of each data type to see how they look as outputs.*\""
      ],
      "metadata": {
        "id": "s7deJQCHHwOa"
      }
    },
    {
      "cell_type": "code",
      "source": [
        "type(x)"
      ],
      "metadata": {
        "colab": {
          "base_uri": "https://localhost:8080/"
        },
        "id": "ktR75uWIJ0uc",
        "outputId": "aa79de87-a862-4f48-c221-6d83800594c4"
      },
      "execution_count": null,
      "outputs": [
        {
          "output_type": "execute_result",
          "data": {
            "text/plain": [
              "int"
            ]
          },
          "metadata": {},
          "execution_count": 7
        }
      ]
    },
    {
      "cell_type": "code",
      "source": [
        "# Integer\n",
        "my_integer = 10\n",
        "print(my_integer)\n",
        "print(type(my_integer))\n",
        "\n",
        "# Float\n",
        "my_float = 3.14\n",
        "print(my_float)\n",
        "print(type(my_float))\n",
        "\n",
        "# String\n",
        "my_string = \"Hello, world!\"\n",
        "print(my_string)\n",
        "print(type(my_string))\n",
        "\n",
        "# Boolean\n",
        "my_boolean = True\n",
        "print(my_boolean)\n",
        "print(type(my_boolean))\n",
        "\n",
        "# List\n",
        "my_list = [1, 2, 3, \"a\", \"b\"]\n",
        "print(my_list)\n",
        "print(type(my_list))\n",
        "\n",
        "# Tuple\n",
        "my_tuple = (1, 2, 3, \"a\", \"b\")\n",
        "print(my_tuple)\n",
        "print(type(my_tuple))\n",
        "\n",
        "# Set\n",
        "my_set = {1, 2, 3, \"a\", \"b\"}\n",
        "print(my_set)\n",
        "print(type(my_set))\n",
        "\n",
        "# Dictionary\n",
        "my_dictionary = {\"name\": \"Alice\", \"age\": 30}\n",
        "print(my_dictionary)\n",
        "print(type(my_dictionary))"
      ],
      "metadata": {
        "colab": {
          "base_uri": "https://localhost:8080/"
        },
        "id": "LFZn6VC0Ardn",
        "outputId": "29fc421b-dffb-4e60-a7b5-958125d828a8"
      },
      "execution_count": 1,
      "outputs": [
        {
          "output_type": "stream",
          "name": "stdout",
          "text": [
            "10\n",
            "<class 'int'>\n",
            "3.14\n",
            "<class 'float'>\n",
            "Hello, world!\n",
            "<class 'str'>\n",
            "True\n",
            "<class 'bool'>\n",
            "[1, 2, 3, 'a', 'b']\n",
            "<class 'list'>\n",
            "(1, 2, 3, 'a', 'b')\n",
            "<class 'tuple'>\n",
            "{'a', 1, 2, 3, 'b'}\n",
            "<class 'set'>\n",
            "{'name': 'Alice', 'age': 30}\n",
            "<class 'dict'>\n"
          ]
        }
      ]
    },
    {
      "cell_type": "markdown",
      "source": [
        "# **<font color=blue>P5. </font>** Arithmetic and comparison operators\n",
        "####**TASK P5.1:**   Complete Rosalind #1"
      ],
      "metadata": {
        "id": "GtjxkNHWN5Xo"
      }
    },
    {
      "cell_type": "code",
      "source": [
        "y=2+3\n",
        "print(y)\n",
        "x==y"
      ],
      "metadata": {
        "id": "45s9c4vyQm2U",
        "colab": {
          "base_uri": "https://localhost:8080/"
        },
        "outputId": "f5697a08-b720-4fcf-9035-d5375de0e0d9"
      },
      "execution_count": null,
      "outputs": [
        {
          "output_type": "stream",
          "name": "stdout",
          "text": [
            "5\n"
          ]
        },
        {
          "output_type": "execute_result",
          "data": {
            "text/plain": [
              "True"
            ]
          },
          "metadata": {},
          "execution_count": 8
        }
      ]
    },
    {
      "cell_type": "markdown",
      "source": [
        "# **<font color=blue>P6. </font>** ```input()``` gets input from the user"
      ],
      "metadata": {
        "id": "3yswDberkE7N"
      }
    },
    {
      "cell_type": "markdown",
      "source": [
        "TASK P6.1"
      ],
      "metadata": {
        "id": "z97rSY9gqdad"
      }
    },
    {
      "cell_type": "code",
      "metadata": {
        "colab": {
          "base_uri": "https://localhost:8080/"
        },
        "id": "d91046dd",
        "outputId": "b0115ae9-f980-47d9-d895-660028b14264"
      },
      "source": [
        "name = input(\"Enter your name: \")\n",
        "print(\"Hello, \" + name)"
      ],
      "execution_count": null,
      "outputs": [
        {
          "output_type": "stream",
          "name": "stdout",
          "text": [
            "Enter your name: Fatima\n",
            "Hello, Fatima\n"
          ]
        }
      ]
    },
    {
      "cell_type": "markdown",
      "source": [
        "####**TASK P6.2:** Solve Rosalind #1 again, but get user input for the values of a and b rather than modifying the code."
      ],
      "metadata": {
        "id": "e3LaAQeLRmE6"
      }
    },
    {
      "cell_type": "code",
      "source": [
        "a= int(input(\"enter a value for a:\"))\n",
        "b= int(input(\"enter a value for b:\"))\n",
        "c=a**2+b**2\n",
        "print (\"The sq of the hypotenuse is\",c)"
      ],
      "metadata": {
        "id": "wZ0XL0L6Rq2H",
        "colab": {
          "base_uri": "https://localhost:8080/"
        },
        "outputId": "b5d930a1-d688-475c-a3a3-2dacada411c3"
      },
      "execution_count": null,
      "outputs": [
        {
          "output_type": "stream",
          "name": "stdout",
          "text": [
            "enter a value for a:983\n",
            "enter a value for b:961\n",
            "The sq of the hypotenuse is 1889810\n"
          ]
        }
      ]
    },
    {
      "cell_type": "markdown",
      "source": [
        "# **<font color=blue>P7. </font>** ```list``` type variables (create, replace, append)"
      ],
      "metadata": {
        "id": "4IM-9eAGkPdi"
      }
    },
    {
      "cell_type": "markdown",
      "source": [
        "####**TASK P7.1**"
      ],
      "metadata": {
        "id": "DhNGdYK6NEpe"
      }
    },
    {
      "cell_type": "code",
      "source": [
        "# Create a list with 3 elements and then print them\n",
        "\n",
        "my_list = [\"Hello\", \"World\", \"Charles Darwin\"]\n",
        "print (my_list[1])"
      ],
      "metadata": {
        "id": "N3VRRQIEkXuP",
        "colab": {
          "base_uri": "https://localhost:8080/"
        },
        "outputId": "c1db7192-b9f7-4d95-8c5c-8dc58a4312c2"
      },
      "execution_count": null,
      "outputs": [
        {
          "output_type": "stream",
          "name": "stdout",
          "text": [
            "World\n"
          ]
        }
      ]
    },
    {
      "cell_type": "markdown",
      "source": [
        "####**TASK P7.2**"
      ],
      "metadata": {
        "id": "Yn3bAoi8NKy5"
      }
    },
    {
      "cell_type": "code",
      "source": [
        "# Substitute the item at index 2 in the list\n",
        "my_list[2] = \"Alfred R. Wallace\"\n",
        "print (my_list)"
      ],
      "metadata": {
        "id": "WNnsUuduOKbI",
        "colab": {
          "base_uri": "https://localhost:8080/"
        },
        "outputId": "3e9a9494-7ce3-4c71-9f23-2fcdca604ceb"
      },
      "execution_count": null,
      "outputs": [
        {
          "output_type": "stream",
          "name": "stdout",
          "text": [
            "['Hello', 'World', 'Alfred R. Wallace']\n"
          ]
        }
      ]
    },
    {
      "cell_type": "markdown",
      "source": [
        "####**TASK P7.3**"
      ],
      "metadata": {
        "id": "SxiMMNLyPwGV"
      }
    },
    {
      "cell_type": "code",
      "source": [
        "# Append an item to the end of the list\n",
        "my_list.append(\"Charles Darwin\")\n",
        "print (my_list)"
      ],
      "metadata": {
        "id": "3VrLc6CGQTi-",
        "colab": {
          "base_uri": "https://localhost:8080/"
        },
        "outputId": "c010b1cc-2af0-4f92-d271-7df200c29772"
      },
      "execution_count": null,
      "outputs": [
        {
          "output_type": "stream",
          "name": "stdout",
          "text": [
            "['Hello', 'World', 'Alfred R. Wallace', 'Charles Darwin']\n"
          ]
        }
      ]
    },
    {
      "cell_type": "markdown",
      "source": [
        "####**TASK P7.4**. Ask Gemini how to <font color=crimson>```insert```</font> a new item at index 1 in the list"
      ],
      "metadata": {
        "id": "XQKmwgbfQond"
      }
    },
    {
      "cell_type": "code",
      "source": [
        "# On line #2 insert an item at index 1 of my_list\n",
        "\n",
        "print (my_list)"
      ],
      "metadata": {
        "id": "u0maP5CZZN13",
        "colab": {
          "base_uri": "https://localhost:8080/"
        },
        "outputId": "669a4b67-4e67-4dd7-939c-01c73438d2d1"
      },
      "execution_count": null,
      "outputs": [
        {
          "output_type": "stream",
          "name": "stdout",
          "text": [
            "['Hello', 'World', 'Alfred R. Wallace', 'Charles Darwin']\n"
          ]
        }
      ]
    },
    {
      "cell_type": "markdown",
      "source": [
        "# **<font color=blue>P8. </font>** Slicing lists and strings"
      ],
      "metadata": {
        "id": "nlBbe3qBRH_J"
      }
    },
    {
      "cell_type": "markdown",
      "source": [
        "####**TASK P8.1** Slice and print only the middle two elements from the list created in P7 (i.e. only <font color=magenta>World</font> and <font color=magenta>Alfred R. Wallace</font>).  "
      ],
      "metadata": {
        "id": "M0YW2MP0WtuI"
      }
    },
    {
      "cell_type": "code",
      "source": [
        "print (my_list[2:4])"
      ],
      "metadata": {
        "colab": {
          "base_uri": "https://localhost:8080/"
        },
        "id": "Tp1djNtiaxSb",
        "outputId": "e3e1d3bc-c5c0-40f2-edc5-c4460311a3f7"
      },
      "execution_count": null,
      "outputs": [
        {
          "output_type": "stream",
          "name": "stdout",
          "text": [
            "['Alfred R. Wallace', 'Charles Darwin']\n"
          ]
        }
      ]
    },
    {
      "cell_type": "markdown",
      "source": [
        "####**TASK P8.2**: Print <font color=magenta>Wallace World</font> from **my_string** by slicing\n"
      ],
      "metadata": {
        "id": "_F9KCUzCd3ID"
      }
    },
    {
      "cell_type": "code",
      "source": [
        "my_string = \"HelloWorldCharlesDarwinAlfred R. Walace\"\n",
        "print (my_string[0:5],my_string[5:10])\n",
        "\n",
        "# in the print command below input the correct index values to complete Task P8.2\n",
        "print (my_string[33 :39],my_string[0 :5 ])"
      ],
      "metadata": {
        "colab": {
          "base_uri": "https://localhost:8080/"
        },
        "id": "AafKngtba8En",
        "outputId": "880184f4-7d92-4594-d209-9523251b3c96"
      },
      "execution_count": null,
      "outputs": [
        {
          "output_type": "stream",
          "name": "stdout",
          "text": [
            "Hello World\n",
            "Walace Hello\n"
          ]
        }
      ]
    },
    {
      "cell_type": "markdown",
      "source": [
        "####**TASK P8.3**  **<font color = orange> Complete Rosalind Problem #2 Strings and Lists</font>**"
      ],
      "metadata": {
        "id": "2TTQVE-Xf8jR"
      }
    },
    {
      "cell_type": "code",
      "source": [
        "# Enter code for Rosalind 2 here:\n",
        "input_string = input()\n",
        "# Extract the two slices (inclusive of end indices)\n",
        "slice1 = input_string[86 : 93 + 1]\n",
        "slice2 = input_string[ 120 :129  + 1]\n",
        "\n",
        "# Print the two slices with a space in between\n",
        "print(slice1, slice2)"
      ],
      "metadata": {
        "id": "LI88f5RZh4GL",
        "colab": {
          "base_uri": "https://localhost:8080/"
        },
        "outputId": "c5a3a7d3-1763-4013-b085-3e2b6a952dec"
      },
      "execution_count": null,
      "outputs": [
        {
          "output_type": "stream",
          "name": "stdout",
          "text": [
            "BRUZdPQjBnlPp3dBNeIHSFKlPXI3juHcYuwJqM2iDbxhR2EmomoefGTUv67kjHJ5b4fSBgUlntHnZXmp7qErAZBubulcusXNbneRmH7gU0COSLNrLHxN9rTFmicrolepis2vKxvzCK4sTNP9wu9Oi1HVz06uMMNFIXeZIGMLuAVxCehU9KKc13qCWNjMU.\n",
            "Bubulcus microlepis\n"
          ]
        }
      ]
    },
    {
      "cell_type": "markdown",
      "source": [
        "####**<font color=crimson>TASK 8.4 Commit to GitHub**</font>*italicized text*"
      ],
      "metadata": {
        "id": "Tw6Pwh6TjwJ9"
      }
    },
    {
      "cell_type": "markdown",
      "source": [
        "# **<font color=blue>P9. </font>** ```if``` and ```else``` - conditional output"
      ],
      "metadata": {
        "id": "iHFNxm30lzic"
      }
    },
    {
      "cell_type": "markdown",
      "source": [
        "####**TASK P9.1** Create some code that subtracts two numbers if they are different or adds them if they are the same."
      ],
      "metadata": {
        "id": "WCXnGdftztbN"
      }
    },
    {
      "cell_type": "code",
      "source": [
        "a=5\n",
        "b=5\n",
        "\n",
        "if a!=b:\n",
        "  print(a-b)\n",
        "\n",
        "else:\n",
        "  print(a+b)"
      ],
      "metadata": {
        "id": "KabZsL5Fy8jJ",
        "colab": {
          "base_uri": "https://localhost:8080/"
        },
        "outputId": "b9475253-81bc-452e-813e-b9de4238df79"
      },
      "execution_count": 2,
      "outputs": [
        {
          "output_type": "stream",
          "name": "stdout",
          "text": [
            "10\n"
          ]
        }
      ]
    },
    {
      "cell_type": "code",
      "source": [
        "a=9\n",
        "b=5\n",
        "\n",
        "if a!=b:\n",
        "  print(a-b)\n",
        "\n",
        "else:\n",
        "  print(a+b)"
      ],
      "metadata": {
        "colab": {
          "base_uri": "https://localhost:8080/"
        },
        "outputId": "1bf18c3b-2ee9-4b9b-a0cd-32afa2dd6a97",
        "id": "kAuCqYShCQ1N"
      },
      "execution_count": 3,
      "outputs": [
        {
          "output_type": "stream",
          "name": "stdout",
          "text": [
            "4\n"
          ]
        }
      ]
    },
    {
      "cell_type": "markdown",
      "source": [
        "# **<font color=blue>P10.</font>** ```while``` loops"
      ],
      "metadata": {
        "id": "sOgq54Op4MZL"
      }
    },
    {
      "cell_type": "markdown",
      "source": [
        "####**TASK P10.1** Create a while loop that runs 3 times\n"
      ],
      "metadata": {
        "id": "JMqGqhTn4l9s"
      }
    },
    {
      "cell_type": "code",
      "source": [
        "# initiate a counter\n",
        "a = 1\n",
        "\n",
        "# print \"Counting!\" while a <= 3\n",
        "while a <= 3:\n",
        "    print(\"Counting!\" * a)\n",
        "    a += 1\n"
      ],
      "metadata": {
        "colab": {
          "base_uri": "https://localhost:8080/"
        },
        "id": "rF4stIqsE8Mi",
        "outputId": "30979f77-52d6-4cfb-e43d-08a4bf29de7f"
      },
      "execution_count": 7,
      "outputs": [
        {
          "output_type": "stream",
          "name": "stdout",
          "text": [
            "Counting!\n",
            "Counting!Counting!\n",
            "Counting!Counting!Counting!\n"
          ]
        }
      ]
    },
    {
      "cell_type": "markdown",
      "source": [
        "# **<font color=blue>P11.</font>** ```for``` loops – looping over lists"
      ],
      "metadata": {
        "id": "R5_dYi9f6t1z"
      }
    },
    {
      "cell_type": "markdown",
      "source": [
        "####**TASK P11.1** Create a for loop to print each item in a list\n"
      ],
      "metadata": {
        "id": "x9F7v_V073wO"
      }
    },
    {
      "cell_type": "code",
      "source": [
        "names = [\"Alice\",\"Bob\",\"Charley\"]\n",
        "\n",
        "for name in names:\n",
        "    print (\"Hello\", name)"
      ],
      "metadata": {
        "id": "-aqaQ5hz70yo",
        "colab": {
          "base_uri": "https://localhost:8080/"
        },
        "outputId": "2d92c167-900a-4ed7-9f09-85d674cecb91"
      },
      "execution_count": 8,
      "outputs": [
        {
          "output_type": "stream",
          "name": "stdout",
          "text": [
            "Hello Alice\n",
            "Hello Bob\n",
            "Hello Charley\n"
          ]
        }
      ]
    },
    {
      "cell_type": "code",
      "source": [],
      "metadata": {
        "id": "Yl5oOsswHEOc"
      },
      "execution_count": null,
      "outputs": []
    },
    {
      "cell_type": "code",
      "source": [
        "names = [\"Fatimoh\",\"Ikeoluwa\",\"Egbinola\"]\n",
        "\n",
        "for name in names:\n",
        "    print (\"Hello\", name)"
      ],
      "metadata": {
        "colab": {
          "base_uri": "https://localhost:8080/"
        },
        "outputId": "dafbfbd2-d2a3-44e9-a486-52883bbc09a8",
        "id": "ek-Ndl_2HHlQ"
      },
      "execution_count": 10,
      "outputs": [
        {
          "output_type": "stream",
          "name": "stdout",
          "text": [
            "Hello Fatimoh\n",
            "Hello Ikeoluwa\n",
            "Hello Egbinola\n"
          ]
        }
      ]
    },
    {
      "cell_type": "markdown",
      "source": [
        "# **<font color=blue>P12.</font>** ```for``` loops over a ```range()```of numbers"
      ],
      "metadata": {
        "id": "LdtXZ0LW9ugo"
      }
    },
    {
      "cell_type": "markdown",
      "source": [
        "####**TASK 12.1** Using for and range(), create code that prints the numbers 0-9"
      ],
      "metadata": {
        "id": "jG6jvXEBDi4H"
      }
    },
    {
      "cell_type": "code",
      "source": [
        "# Create a variable to define the  number of iterations\n",
        "iterations = 10\n",
        "\n",
        "#Print the current item's value each time through the loop\n",
        "for number in range(iterations):\n",
        "    print (number)"
      ],
      "metadata": {
        "colab": {
          "base_uri": "https://localhost:8080/"
        },
        "id": "RFBXqQNu_E6X",
        "outputId": "be37c447-e0b4-4e9b-a338-242f2152c285"
      },
      "execution_count": 11,
      "outputs": [
        {
          "output_type": "stream",
          "name": "stdout",
          "text": [
            "0\n",
            "1\n",
            "2\n",
            "3\n",
            "4\n",
            "5\n",
            "6\n",
            "7\n",
            "8\n",
            "9\n"
          ]
        }
      ]
    },
    {
      "cell_type": "markdown",
      "source": [
        "####**TASK 12.2** Modify the code so that it only prints every 3rd number from 9 through 27 (i.e. including 27)"
      ],
      "metadata": {
        "id": "NRd5srR_G-PQ"
      }
    },
    {
      "cell_type": "code",
      "source": [
        "# Modify the code to print every 3rd number from 9 through 27\n",
        "# start counter at 9\n",
        "a = 9\n",
        "\n",
        "# loop to print every 3rd number from 9 through 27\n",
        "while a <= 27:\n",
        "    print(a)\n",
        "    a += 3\n"
      ],
      "metadata": {
        "colab": {
          "base_uri": "https://localhost:8080/"
        },
        "outputId": "a34abc7e-3615-443c-9eda-8e290168af37",
        "id": "I_NbMnv3I04k"
      },
      "execution_count": 13,
      "outputs": [
        {
          "output_type": "stream",
          "name": "stdout",
          "text": [
            "9\n",
            "12\n",
            "15\n",
            "18\n",
            "21\n",
            "24\n",
            "27\n"
          ]
        }
      ]
    },
    {
      "cell_type": "markdown",
      "source": [
        "####**TASK 12.3** <font color = orange> **Complete Rosalind Problem #3 Conditions and Loops** </font>"
      ],
      "metadata": {
        "id": "83jDEjpMHXUa"
      }
    },
    {
      "cell_type": "code",
      "source": [
        "# Enter code for Rosalind 3 here:\n",
        "# Read input\n",
        "a, b = map(int, input().split())\n",
        "\n",
        "# Initialize sum\n",
        "total = 0\n",
        "\n",
        "# Loop through numbers in range\n",
        "for i in range(a, b + 1):\n",
        "    if i % 2 != 0:  # check if odd\n",
        "        total += i\n",
        "\n",
        "# Print result\n",
        "print(total)"
      ],
      "metadata": {
        "id": "EI7hRtakG90R",
        "colab": {
          "base_uri": "https://localhost:8080/"
        },
        "outputId": "55cb571a-a039-407a-d645-d3f5c5880a7c"
      },
      "execution_count": 14,
      "outputs": [
        {
          "output_type": "stream",
          "name": "stdout",
          "text": [
            "4031 8633\n",
            "14576264\n"
          ]
        }
      ]
    },
    {
      "cell_type": "markdown",
      "source": [
        "####**<font color=crimson>TASK 12.4 Commit to GitHub**</font>"
      ],
      "metadata": {
        "id": "3P9DKNbPI1wp"
      }
    },
    {
      "cell_type": "markdown",
      "source": [
        "# **<font color=blue>P13.</font>** File I/O – with open(\"filename\", \"mode\") as filehandle:\n"
      ],
      "metadata": {
        "id": "i4Fo-ddSKWwy"
      }
    },
    {
      "cell_type": "markdown",
      "source": [
        "####**TASK P13.1** Use the ```read()``` function to print the <font color = orange>practice dataset from Rosalind #4</font>\n"
      ],
      "metadata": {
        "id": "sgc3wiQmLXcI"
      }
    },
    {
      "cell_type": "code",
      "source": [
        "with open(\"practice.txt\",\"r\") as data:\n",
        "\n",
        "    print(data.read())\n",
        "\n",
        "    #print(data.readline())\n",
        "\n",
        "    #print(data.readlines())"
      ],
      "metadata": {
        "id": "V5nzHsnULA_n",
        "colab": {
          "base_uri": "https://localhost:8080/"
        },
        "outputId": "06d7501b-ff9a-421d-b63e-54d95e7fdfee"
      },
      "execution_count": 17,
      "outputs": [
        {
          "output_type": "stream",
          "name": "stdout",
          "text": [
            "Bravely bold Sir Robin rode forth from Camelot\n",
            "Yes, brave Sir Robin turned about\n",
            "He was not afraid to die, O brave Sir Robin\n",
            "And gallantly he chickened out\n",
            "He was not at all afraid to be killed in nasty ways\n",
            "Bravely talking to his feet\n",
            "Brave, brave, brave, brave Sir Robin\n",
            "He beat a very brave retreat\n"
          ]
        }
      ]
    },
    {
      "cell_type": "markdown",
      "source": [
        "####**TASK P13.2** Explore file object functions to read and print practice.txt"
      ],
      "metadata": {
        "id": "GLO6tBYNVzYZ"
      }
    },
    {
      "cell_type": "code",
      "source": [
        "with open(\"practice.txt\",\"r\") as data:\n",
        "\n",
        "    print(data.read())\n",
        "\n",
        "    print(data.readline())\n",
        "\n",
        "    print(data.readlines())\n",
        "\n"
      ],
      "metadata": {
        "colab": {
          "base_uri": "https://localhost:8080/"
        },
        "outputId": "e1a39926-1780-46aa-a984-68086bc9678d",
        "id": "xM5EBLbEPMyR"
      },
      "execution_count": 22,
      "outputs": [
        {
          "output_type": "stream",
          "name": "stdout",
          "text": [
            "Bravely bold Sir Robin rode forth from Camelot\n",
            "Yes, brave Sir Robin turned about\n",
            "He was not afraid to die, O brave Sir Robin\n",
            "And gallantly he chickened out\n",
            "He was not at all afraid to be killed in nasty ways\n",
            "Bravely talking to his feet\n",
            "Brave, brave, brave, brave Sir Robin\n",
            "He beat a very brave retreat\n",
            "\n",
            "[]\n"
          ]
        }
      ]
    },
    {
      "cell_type": "markdown",
      "source": [
        "#<font color=blue>**P14.**</font> Store the content, close the file, and join ( ) the list"
      ],
      "metadata": {
        "id": "iupO8iI-ZYAe"
      }
    },
    {
      "cell_type": "code",
      "source": [
        "with open(\"practice.txt\",\"r\") as data:\n",
        "\n",
        "  list_of_lines=data.readlines()\n",
        "\n",
        "print (list_of_lines)"
      ],
      "metadata": {
        "id": "8U5w2qOudDyp",
        "colab": {
          "base_uri": "https://localhost:8080/"
        },
        "outputId": "d8dcfb6d-a947-4260-8d50-73b9e1359c6e"
      },
      "execution_count": 23,
      "outputs": [
        {
          "output_type": "stream",
          "name": "stdout",
          "text": [
            "['Bravely bold Sir Robin rode forth from Camelot\\n', 'Yes, brave Sir Robin turned about\\n', 'He was not afraid to die, O brave Sir Robin\\n', 'And gallantly he chickened out\\n', 'He was not at all afraid to be killed in nasty ways\\n', 'Bravely talking to his feet\\n', 'Brave, brave, brave, brave Sir Robin\\n', 'He beat a very brave retreat']\n"
          ]
        }
      ]
    },
    {
      "cell_type": "markdown",
      "source": [
        "####**TASK P14.1** Read practice.txt into a list of lines. Then, after the file is closed, use the join ( ) function to print the contents so it looks like the original input."
      ],
      "metadata": {
        "id": "5pPhGmQYiiKx"
      }
    },
    {
      "cell_type": "code",
      "source": [
        "print (\"\".join(list_of_lines))"
      ],
      "metadata": {
        "id": "XLvFZ9uSeyYH",
        "colab": {
          "base_uri": "https://localhost:8080/"
        },
        "outputId": "4302be58-1c60-4a85-ec0d-f84c9e325c9a"
      },
      "execution_count": 28,
      "outputs": [
        {
          "output_type": "stream",
          "name": "stdout",
          "text": [
            "Bravely bold Sir Robin rode forth from Camelot\n",
            "Yes, brave Sir Robin turned about\n",
            "He was not afraid to die, O brave Sir Robin\n",
            "And gallantly he chickened out\n",
            "He was not at all afraid to be killed in nasty ways\n",
            "Bravely talking to his feet\n",
            "Brave, brave, brave, brave Sir Robin\n",
            "He beat a very brave retreat\n"
          ]
        }
      ]
    },
    {
      "cell_type": "markdown",
      "source": [
        "#<font color=blue>**P15.**</font> Combining for loops with file objects"
      ],
      "metadata": {
        "id": "lY924yM0jckW"
      }
    },
    {
      "cell_type": "markdown",
      "source": [
        "####**TASK P15.1** Use a for loop to print each line in practice.txt"
      ],
      "metadata": {
        "id": "NvqGEl4JjpiO"
      }
    },
    {
      "cell_type": "code",
      "source": [
        "with open(\"practice.txt\",\"r\") as data:\n",
        "\n",
        "  for line in data:\n",
        "    print (line)"
      ],
      "metadata": {
        "id": "snY-10pUkMby",
        "colab": {
          "base_uri": "https://localhost:8080/"
        },
        "outputId": "45f83f28-f9ab-46b2-b369-d6f4266c49f3"
      },
      "execution_count": 29,
      "outputs": [
        {
          "output_type": "stream",
          "name": "stdout",
          "text": [
            "Bravely bold Sir Robin rode forth from Camelot\n",
            "\n",
            "Yes, brave Sir Robin turned about\n",
            "\n",
            "He was not afraid to die, O brave Sir Robin\n",
            "\n",
            "And gallantly he chickened out\n",
            "\n",
            "He was not at all afraid to be killed in nasty ways\n",
            "\n",
            "Bravely talking to his feet\n",
            "\n",
            "Brave, brave, brave, brave Sir Robin\n",
            "\n",
            "He beat a very brave retreat\n"
          ]
        }
      ]
    },
    {
      "cell_type": "code",
      "source": [
        "with open(\"practice.txt\",\"r\") as data:\n",
        "\n",
        "  for line in data:\n",
        "    print (line.rstrip())"
      ],
      "metadata": {
        "colab": {
          "base_uri": "https://localhost:8080/"
        },
        "outputId": "2bec55ad-d7ca-4db9-f93a-8dcf5a7b30c9",
        "id": "mJETZ7M9TCF5"
      },
      "execution_count": 32,
      "outputs": [
        {
          "output_type": "stream",
          "name": "stdout",
          "text": [
            "Bravely bold Sir Robin rode forth from Camelot\n",
            "Yes, brave Sir Robin turned about\n",
            "He was not afraid to die, O brave Sir Robin\n",
            "And gallantly he chickened out\n",
            "He was not at all afraid to be killed in nasty ways\n",
            "Bravely talking to his feet\n",
            "Brave, brave, brave, brave Sir Robin\n",
            "He beat a very brave retreat\n"
          ]
        }
      ]
    },
    {
      "cell_type": "markdown",
      "source": [
        "####**TASK P15.2** <font color=orange>**Complete Rosalind Problem #4 Working with Files**</font>\n"
      ],
      "metadata": {
        "id": "DHzE7CI4lWGw"
      }
    },
    {
      "cell_type": "code",
      "source": [
        "# Sample dataset as a string\n",
        "data = \"\"\"`Twas brillig, and the slithy toves\n",
        "Some things in life are bad, they can really make you mad\n",
        "  Did gyre and gimble in the wabe:\n",
        "Other things just make you swear and curse\n",
        "All mimsy were the borogoves,\n",
        "When you're chewing on life's gristle, don't grumble give a whistle\n",
        "  And the mome raths outgrabe.\n",
        "This will help things turn out for the best\n",
        "\"Beware the Jabberwock, my son!\n",
        "Always look on the bright side of life\n",
        "  The jaws that bite, the claws that catch!\n",
        "Always look on the right side of life\n",
        "Beware the Jubjub bird, and shun\n",
        "If life seems jolly rotten, there's something you've forgotten\n",
        "  The frumious Bandersnatch!\"\n",
        "And that's to laugh and smile and dance and sing\n",
        "He took his vorpal sword in hand:\n",
        "When you're feeling in the dumps, don't be silly, chumps\n",
        "  Long time the manxome foe he sought --\n",
        "Just purse your lips and whistle, that's the thing\n",
        "So rested he by the Tumtum tree,\n",
        "So, always look on the bright side of death\n",
        "  And stood awhile in thought.\n",
        "Just before you draw your terminal breath\n",
        "And, as in uffish thought he stood,\n",
        "Life's a counterfeit and when you look at it\n",
        "  The Jabberwock, with eyes of flame,\n",
        "Life's a laugh and death's the joke, it's true\n",
        "Came whiffling through the tulgey wood,\n",
        "You see, it's all a show, keep them laughing as you go\n",
        "  And burbled as it came!\n",
        "Just remember the last laugh is on you\n",
        "One, two! One, two! And through and through\n",
        "Always look on the bright side of life\n",
        "  The vorpal blade went snicker-snack!\n",
        "And always look on the right side of life\n",
        "He left it dead, and with its head\n",
        "Always look on the bright side of life\n",
        "  He went galumphing back.\n",
        "And always look on the right side of life\"\"\"\n",
        "\n",
        "# Split the string into lines\n",
        "lines = data.split(\"\\n\")\n",
        "\n",
        "# Print only the even-numbered lines (1-based indexing)\n",
        "for i, line in enumerate(lines, start=1):\n",
        "    if i % 2 == 0:\n",
        "        print(line)\n"
      ],
      "metadata": {
        "id": "8QR9dRFtltBN",
        "colab": {
          "base_uri": "https://localhost:8080/"
        },
        "outputId": "b9ac27a6-931a-48c5-aa7c-2e3b70cc6dc4"
      },
      "execution_count": 34,
      "outputs": [
        {
          "output_type": "stream",
          "name": "stdout",
          "text": [
            "Some things in life are bad, they can really make you mad\n",
            "Other things just make you swear and curse\n",
            "When you're chewing on life's gristle, don't grumble give a whistle\n",
            "This will help things turn out for the best\n",
            "Always look on the bright side of life\n",
            "Always look on the right side of life\n",
            "If life seems jolly rotten, there's something you've forgotten\n",
            "And that's to laugh and smile and dance and sing\n",
            "When you're feeling in the dumps, don't be silly, chumps\n",
            "Just purse your lips and whistle, that's the thing\n",
            "So, always look on the bright side of death\n",
            "Just before you draw your terminal breath\n",
            "Life's a counterfeit and when you look at it\n",
            "Life's a laugh and death's the joke, it's true\n",
            "You see, it's all a show, keep them laughing as you go\n",
            "Just remember the last laugh is on you\n",
            "Always look on the bright side of life\n",
            "And always look on the right side of life\n",
            "Always look on the bright side of life\n",
            "And always look on the right side of life\n"
          ]
        }
      ]
    },
    {
      "cell_type": "markdown",
      "source": [
        "####**<font color=crimson>TASK 15.4 Commit to GitHub**</font>"
      ],
      "metadata": {
        "id": "GJ_acW4WlwDn"
      }
    },
    {
      "cell_type": "markdown",
      "source": [
        "#<font color=blue>**P16.**</font> ```for word in line.split()``` – looping over strings and splitting by any delimiter"
      ],
      "metadata": {
        "id": "WD5wnvQkmh6E"
      }
    },
    {
      "cell_type": "markdown",
      "source": [
        "####**TASK P16.1** Print each word in the ROSALIND Problem #5 Sample Dataset on a separate line.\n"
      ],
      "metadata": {
        "id": "kApNvgOLn8lp"
      }
    },
    {
      "cell_type": "code",
      "source": [
        "with open(\"practice_5.txt\",\"r\") as data:\n",
        "\n",
        "  line=data.read()\n",
        "\n",
        "for word in line.split():\n",
        "    print (word)"
      ],
      "metadata": {
        "colab": {
          "base_uri": "https://localhost:8080/"
        },
        "id": "PBjyhwclpKoM",
        "outputId": "afb464a8-3407-43ec-e091-5e57dd22b646"
      },
      "execution_count": null,
      "outputs": [
        {
          "output_type": "stream",
          "name": "stdout",
          "text": [
            "We\n",
            "tried\n",
            "list\n",
            "and\n",
            "we\n",
            "tried\n",
            "dicts\n",
            "also\n",
            "we\n",
            "tried\n",
            "Zen\n"
          ]
        }
      ]
    },
    {
      "cell_type": "markdown",
      "source": [
        "#<font color=blue>**P17.**</font> Python Dictionaries { }"
      ],
      "metadata": {
        "id": "kq9QbEttnA4h"
      }
    },
    {
      "cell_type": "markdown",
      "source": [
        "####**TASK 17.1** Create and print your first dictionary"
      ],
      "metadata": {
        "id": "lVudFQkZqJgh"
      }
    },
    {
      "cell_type": "code",
      "source": [
        "sequences = {\n",
        "    \"H.neandertalensis\":\"ACGTCGCTCTGCTA\",\n",
        "    \"H.sapiens\":\"ACGTCACTCTGCTA\"\n",
        "    }\n",
        "\n",
        "print (sequences)"
      ],
      "metadata": {
        "colab": {
          "base_uri": "https://localhost:8080/"
        },
        "id": "IzKFWDlgq6zo",
        "outputId": "1a4d0584-afcb-46ea-fac1-265bbc7bcd89"
      },
      "execution_count": null,
      "outputs": [
        {
          "output_type": "stream",
          "name": "stdout",
          "text": [
            "{'H.neandertalensis': 'ACGTCGCTCTGCTA', 'H.sapiens': 'ACGTCACTCTGCTA'}\n",
            "ACGTCACTCTGCTA\n",
            ">H.neandertalensis\n",
            "ACGTCGCTCTGCTA\n",
            ">H.sapiens\n",
            "ACGTCACTCTGCTA\n",
            ">P.troglodytes\n",
            "ACGTCACTCTCCTA\n",
            ">G.gorilla\n",
            "ACGTCCTCCTA\n",
            ">H.erectus\n",
            "ACGTCACTCTGCTA\n"
          ]
        },
        {
          "output_type": "execute_result",
          "data": {
            "text/plain": [
              "{'H.neandertalensis': 'ACGTCGCTCTGCTA',\n",
              " 'H.sapiens': 'ACGTCACTCTGCTA',\n",
              " 'P.troglodytes': 'ACGTCACTCTCCTA',\n",
              " 'G.gorilla': 'ACGTCCTCCTA',\n",
              " 'H.erectus': 'ACGTCACTCTGCTA'}"
            ]
          },
          "metadata": {},
          "execution_count": 60
        }
      ]
    },
    {
      "cell_type": "markdown",
      "source": [
        "#<font color=blue>**P18.**</font> Manipulating and printing dictionaries"
      ],
      "metadata": {
        "id": "OvqoT6UwnK0g"
      }
    },
    {
      "cell_type": "markdown",
      "source": [
        "####**TASK 18.1** Modify line 8 to create a fasta file of the hominid sequences"
      ],
      "metadata": {
        "id": "5Be2tcQRrjso"
      }
    },
    {
      "cell_type": "code",
      "source": [
        "sequences[\"P.troglodytes\"]=\"ACGTCACTCTCCTA\"\n",
        "\n",
        "sequences.update({\"G.gorilla\":\"ACGTCCTCCTA\", \"H.erectus\":\"ACGTCACTCTGCTA\"})\n",
        "\n",
        "print (sequences[\"H.sapiens\"])\n",
        "\n",
        "for key,value in sequences.items():\n",
        "     print (key,value)"
      ],
      "metadata": {
        "colab": {
          "base_uri": "https://localhost:8080/"
        },
        "id": "b-2XDof4rtP8",
        "outputId": "1e998098-f26e-4df1-fd79-38816a84ee15"
      },
      "execution_count": null,
      "outputs": [
        {
          "output_type": "stream",
          "name": "stdout",
          "text": [
            "ACGTCACTCTGCTA\n",
            "H.neandertalensis ACGTCGCTCTGCTA\n",
            "H.sapiens ACGTCACTCTGCTA\n",
            "P.troglodytes ACGTCACTCTCCTA\n",
            "G.gorilla ACGTCCTCCTA\n",
            "H.erectus ACGTCACTCTGCTA\n"
          ]
        }
      ]
    },
    {
      "cell_type": "markdown",
      "source": [
        "####**TASK P18.2** <font color= orange>**Complete Rosalind Problem #5  Dictionaries**</font>"
      ],
      "metadata": {
        "id": "Y98OZYUNvmWD"
      }
    },
    {
      "cell_type": "code",
      "source": [],
      "metadata": {
        "id": "lD3KoTY9wWa7"
      },
      "execution_count": null,
      "outputs": []
    },
    {
      "cell_type": "markdown",
      "source": [
        "####**<font color=crimson>TASK 18.3 Commit to GitHub**</font>"
      ],
      "metadata": {
        "id": "1dJdfy4bwVO4"
      }
    },
    {
      "cell_type": "markdown",
      "source": [
        "#<font color=blue>**P19.**</font> ```count()``` – counting things made easy"
      ],
      "metadata": {
        "id": "28ygQlYJnZoA"
      }
    },
    {
      "cell_type": "markdown",
      "source": [
        "####**TASK P19.1** <font color= orange>**Complete Rosalind Problem #6  Counting DNA Nucleotides**</font>"
      ],
      "metadata": {
        "id": "CZ9tBWDmw4D-"
      }
    },
    {
      "cell_type": "code",
      "source": [],
      "metadata": {
        "id": "GlwS14zGxBIC"
      },
      "execution_count": null,
      "outputs": []
    },
    {
      "cell_type": "markdown",
      "source": [
        "####**TASK P19.2** Modify your code for the Rosalind #5 Dictionary problem so that it uses count( ) to count the words."
      ],
      "metadata": {
        "id": "rj-OWB6Jym5y"
      }
    },
    {
      "cell_type": "code",
      "source": [],
      "metadata": {
        "id": "9H_S6jLnzfxR"
      },
      "execution_count": null,
      "outputs": []
    },
    {
      "cell_type": "markdown",
      "source": [
        "####**<font color=crimson>TASK 19.3 Commit to GitHub**</font>\n"
      ],
      "metadata": {
        "id": "RzMon_wAzg7D"
      }
    },
    {
      "cell_type": "markdown",
      "source": [
        "#<font color=blue>**P20.**</font> Installing biopython"
      ],
      "metadata": {
        "id": "-IB0c2gG0Z1O"
      }
    },
    {
      "cell_type": "code",
      "source": [
        "!pip install biopython"
      ],
      "metadata": {
        "colab": {
          "base_uri": "https://localhost:8080/"
        },
        "id": "pinPQdEn0mJM",
        "outputId": "8b2e7bae-fe1b-44af-d75d-f2b0cb105077"
      },
      "execution_count": null,
      "outputs": [
        {
          "output_type": "stream",
          "name": "stdout",
          "text": [
            "Collecting biopython\n",
            "  Downloading biopython-1.85-cp312-cp312-manylinux_2_17_x86_64.manylinux2014_x86_64.whl.metadata (13 kB)\n",
            "Requirement already satisfied: numpy in /usr/local/lib/python3.12/dist-packages (from biopython) (2.0.2)\n",
            "Downloading biopython-1.85-cp312-cp312-manylinux_2_17_x86_64.manylinux2014_x86_64.whl (3.3 MB)\n",
            "\u001b[2K   \u001b[90m━━━━━━━━━━━━━━━━━━━━━━━━━━━━━━━━━━━━━━━━\u001b[0m \u001b[32m3.3/3.3 MB\u001b[0m \u001b[31m32.0 MB/s\u001b[0m eta \u001b[36m0:00:00\u001b[0m\n",
            "\u001b[?25hInstalling collected packages: biopython\n",
            "Successfully installed biopython-1.85\n"
          ]
        }
      ]
    },
    {
      "cell_type": "code",
      "metadata": {
        "colab": {
          "base_uri": "https://localhost:8080/"
        },
        "id": "5ccd6f0b",
        "outputId": "70af8419-2f7b-4212-e6c2-bb7e12b48a77"
      },
      "source": [
        "try:\n",
        "  from Bio.Seq import Seq\n",
        "  print(\"Biopython is installed correctly.\")\n",
        "except ImportError:\n",
        "  print(\"Biopython is not installed or there was an import error.\")"
      ],
      "execution_count": null,
      "outputs": [
        {
          "output_type": "stream",
          "name": "stdout",
          "text": [
            "Biopython is installed correctly.\n"
          ]
        }
      ]
    },
    {
      "cell_type": "markdown",
      "source": [
        "#<font color=blue>**P21.**</font> Seq( ) – a function to define sequence objects"
      ],
      "metadata": {
        "id": "IGX-ThdQ3RuA"
      }
    },
    {
      "cell_type": "code",
      "source": [
        "from Bio.Seq import Seq\n",
        "\n",
        "my_sequence = Seq(\"GATGGAACTTGACTACGTAAATT\")"
      ],
      "metadata": {
        "id": "ltZBr8mE4OhM"
      },
      "execution_count": null,
      "outputs": []
    },
    {
      "cell_type": "markdown",
      "source": [
        "####**TASK BP21.2** <font color=orange> **Complete Rosalind #7 Transcribing DNA into RNA**</font>"
      ],
      "metadata": {
        "id": "UXCuEFxg6Jxx"
      }
    },
    {
      "cell_type": "code",
      "source": [],
      "metadata": {
        "id": "UXt6gWLM6qde"
      },
      "execution_count": null,
      "outputs": []
    },
    {
      "cell_type": "markdown",
      "source": [
        "####**TASK BP21.2** <font color=orange> **Complete Rosalind #8  Translating RNA into Protein**</font>"
      ],
      "metadata": {
        "id": "9P4_MaXp6O3n"
      }
    },
    {
      "cell_type": "code",
      "source": [],
      "metadata": {
        "id": "5Rzzfzij6q2P"
      },
      "execution_count": null,
      "outputs": []
    },
    {
      "cell_type": "markdown",
      "source": [
        "####**<font color=crimson>TASK 21.3 Commit to GitHub**</font>\n"
      ],
      "metadata": {
        "id": "dvtR4N7L6sZ_"
      }
    },
    {
      "cell_type": "markdown",
      "source": [
        "#<font color=blue>**P22.**</font> SeqIO – a function to parse( ) sequence files"
      ],
      "metadata": {
        "id": "bDJqtRiX3fEG"
      }
    },
    {
      "cell_type": "markdown",
      "source": [
        "####**TASK BP 22.1** Read in the practice dataset from Rosalind #9 and print the id of each sequence in the file."
      ],
      "metadata": {
        "id": "VKyMhLjx7nIo"
      }
    },
    {
      "cell_type": "code",
      "source": [
        "from Bio.SeqIO import parse\n",
        "\n",
        "for seq_record in parse(\"practice_9.txt\", \"fasta\"):\n",
        "    print (seq_record.id)\n",
        "    print (seq_record.seq)\n",
        "    print (len(seq_record.seq))\n",
        "    print (seq_record)"
      ],
      "metadata": {
        "colab": {
          "base_uri": "https://localhost:8080/"
        },
        "id": "xUi3JEoh7yJ6",
        "outputId": "70d2fb30-4160-4104-ec06-90bcf2e77b47"
      },
      "execution_count": null,
      "outputs": [
        {
          "output_type": "stream",
          "name": "stdout",
          "text": [
            "Rosalind_6404\n",
            "Rosalind_5959\n",
            "Rosalind_0808\n"
          ]
        }
      ]
    },
    {
      "cell_type": "markdown",
      "source": [
        "#<font color=blue>**P23.**</font> SeqUtils.GC( ) – a function to compute GC content"
      ],
      "metadata": {
        "id": "SAjUYBpe3pwi"
      }
    },
    {
      "cell_type": "code",
      "metadata": {
        "id": "ed4e542f"
      },
      "source": [
        "# Integer\n",
        "my_integer = 10\n",
        "print(my_integer)\n",
        "print(type(my_integer))\n",
        "\n",
        "# Float\n",
        "my_float = 3.14\n",
        "print(my_float)\n",
        "print(type(my_float))\n",
        "\n",
        "# String\n",
        "my_string = \"Hello, world!\"\n",
        "print(my_string)\n",
        "print(type(my_string))\n",
        "\n",
        "# Boolean\n",
        "my_boolean = True\n",
        "print(my_boolean)\n",
        "print(type(my_boolean))\n",
        "\n",
        "# List\n",
        "my_list = [1, 2, 3, \"a\", \"b\"]\n",
        "print(my_list)\n",
        "print(type(my_list))\n",
        "\n",
        "# Tuple\n",
        "my_tuple = (1, 2, 3, \"a\", \"b\")\n",
        "print(my_tuple)\n",
        "print(type(my_tuple))\n",
        "\n",
        "# Set\n",
        "my_set = {1, 2, 3, \"a\", \"b\"}\n",
        "print(my_set)\n",
        "print(type(my_set))\n",
        "\n",
        "# Dictionary\n",
        "my_dictionary = {\"name\": \"Alice\", \"age\": 30}\n",
        "print(my_dictionary)\n",
        "print(type(my_dictionary))"
      ],
      "execution_count": null,
      "outputs": []
    }
  ]
}