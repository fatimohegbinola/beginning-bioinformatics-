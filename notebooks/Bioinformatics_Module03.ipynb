{
  "nbformat": 4,
  "nbformat_minor": 0,
  "metadata": {
    "colab": {
      "provenance": [],
      "collapsed_sections": [
        "GtjxkNHWN5Xo",
        "3yswDberkE7N"
      ],
      "include_colab_link": true
    },
    "kernelspec": {
      "name": "python3",
      "display_name": "Python 3"
    },
    "language_info": {
      "name": "python"
    }
  },
  "cells": [
    {
      "cell_type": "markdown",
      "metadata": {
        "id": "view-in-github",
        "colab_type": "text"
      },
      "source": [
        "<a href=\"https://colab.research.google.com/github/fatimohegbinola/beginning-bioinformatics-/blob/main/notebooks/Bioinformatics_Module03.ipynb\" target=\"_parent\"><img src=\"https://colab.research.google.com/assets/colab-badge.svg\" alt=\"Open In Colab\"/></a>"
      ]
    },
    {
      "cell_type": "markdown",
      "source": [
        "# **<font color=blue>P2. </font>**```print()```writes to standard output (i.e. prints output to the screen)"
      ],
      "metadata": {
        "id": "jYlnA2Z2FhoW"
      }
    },
    {
      "cell_type": "markdown",
      "source": [
        "####**TASK P2.1:** Print <font color = magenta>hello world</font>"
      ],
      "metadata": {
        "id": "r118fqQodA9x"
      }
    },
    {
      "cell_type": "code",
      "source": [
        "print(\"hello world\")"
      ],
      "metadata": {
        "id": "kvxK8D5uFx_x",
        "colab": {
          "base_uri": "https://localhost:8080/"
        },
        "outputId": "29818c9a-a426-43b0-bfc8-d18f6d5d0200"
      },
      "execution_count": null,
      "outputs": [
        {
          "output_type": "stream",
          "name": "stdout",
          "text": [
            "hello world\n"
          ]
        }
      ]
    },
    {
      "cell_type": "markdown",
      "source": [
        "# **<font color=blue>P3. </font>**```=``` is the ASSIGNMENT operator (assigns values to variables)\n",
        "####**TASK P3.1:** Ask Gemini, \"*Give me 3 examples to help practice understanding the assignment operator.*\""
      ],
      "metadata": {
        "id": "qRj8vCvXG-1k"
      }
    },
    {
      "cell_type": "code",
      "source": [
        "x=5\n",
        "x"
      ],
      "metadata": {
        "id": "VB8HPNe7JpuJ",
        "colab": {
          "base_uri": "https://localhost:8080/"
        },
        "outputId": "e8757ac9-e3cb-4331-9f35-b12c8cfc105c"
      },
      "execution_count": null,
      "outputs": [
        {
          "output_type": "execute_result",
          "data": {
            "text/plain": [
              "5"
            ]
          },
          "metadata": {},
          "execution_count": 3
        }
      ]
    },
    {
      "cell_type": "code",
      "source": [
        "# Example 1: Simple assignment\n",
        "age = 30\n",
        "print(age)\n",
        "\n",
        "# Example 2: Assigning the value of another variable\n",
        "score1 = 100\n",
        "score2 = score1\n",
        "print(score2)\n",
        "\n",
        "# Example 3: Assigning the result of an expression\n",
        "width = 10\n",
        "height = 5\n",
        "area = width * height\n",
        "print(area)"
      ],
      "metadata": {
        "colab": {
          "base_uri": "https://localhost:8080/"
        },
        "id": "C6MnQ0R82M0e",
        "outputId": "0854472e-a718-489a-b027-9a0c1206b859"
      },
      "execution_count": null,
      "outputs": [
        {
          "output_type": "stream",
          "name": "stdout",
          "text": [
            "30\n",
            "100\n",
            "50\n"
          ]
        }
      ]
    },
    {
      "cell_type": "markdown",
      "source": [],
      "metadata": {
        "id": "chtWoxFQ2VEi"
      }
    },
    {
      "cell_type": "markdown",
      "source": [
        "# **<font color=blue>P4. </font>** Data types: use ```type()``` to find a variable's \"type\"\n",
        "####**TASK P4.1:** Ask Gemini, \"*Give me examples of each data type to see how they look as outputs.*\""
      ],
      "metadata": {
        "id": "s7deJQCHHwOa"
      }
    },
    {
      "cell_type": "code",
      "source": [
        "type(x)"
      ],
      "metadata": {
        "colab": {
          "base_uri": "https://localhost:8080/"
        },
        "id": "ktR75uWIJ0uc",
        "outputId": "aa79de87-a862-4f48-c221-6d83800594c4"
      },
      "execution_count": null,
      "outputs": [
        {
          "output_type": "execute_result",
          "data": {
            "text/plain": [
              "int"
            ]
          },
          "metadata": {},
          "execution_count": 7
        }
      ]
    },
    {
      "cell_type": "code",
      "source": [
        "# Integer\n",
        "my_integer = 10\n",
        "print(my_integer)\n",
        "print(type(my_integer))\n",
        "\n",
        "# Float\n",
        "my_float = 3.14\n",
        "print(my_float)\n",
        "print(type(my_float))\n",
        "\n",
        "# String\n",
        "my_string = \"Hello, world!\"\n",
        "print(my_string)\n",
        "print(type(my_string))\n",
        "\n",
        "# Boolean\n",
        "my_boolean = True\n",
        "print(my_boolean)\n",
        "print(type(my_boolean))\n",
        "\n",
        "# List\n",
        "my_list = [1, 2, 3, \"a\", \"b\"]\n",
        "print(my_list)\n",
        "print(type(my_list))\n",
        "\n",
        "# Tuple\n",
        "my_tuple = (1, 2, 3, \"a\", \"b\")\n",
        "print(my_tuple)\n",
        "print(type(my_tuple))\n",
        "\n",
        "# Set\n",
        "my_set = {1, 2, 3, \"a\", \"b\"}\n",
        "print(my_set)\n",
        "print(type(my_set))\n",
        "\n",
        "# Dictionary\n",
        "my_dictionary = {\"name\": \"Alice\", \"age\": 30}\n",
        "print(my_dictionary)\n",
        "print(type(my_dictionary))"
      ],
      "metadata": {
        "colab": {
          "base_uri": "https://localhost:8080/"
        },
        "id": "LFZn6VC0Ardn",
        "outputId": "29fc421b-dffb-4e60-a7b5-958125d828a8"
      },
      "execution_count": null,
      "outputs": [
        {
          "output_type": "stream",
          "name": "stdout",
          "text": [
            "10\n",
            "<class 'int'>\n",
            "3.14\n",
            "<class 'float'>\n",
            "Hello, world!\n",
            "<class 'str'>\n",
            "True\n",
            "<class 'bool'>\n",
            "[1, 2, 3, 'a', 'b']\n",
            "<class 'list'>\n",
            "(1, 2, 3, 'a', 'b')\n",
            "<class 'tuple'>\n",
            "{'a', 1, 2, 3, 'b'}\n",
            "<class 'set'>\n",
            "{'name': 'Alice', 'age': 30}\n",
            "<class 'dict'>\n"
          ]
        }
      ]
    },
    {
      "cell_type": "markdown",
      "source": [
        "# **<font color=blue>P5. </font>** Arithmetic and comparison operators\n",
        "####**TASK P5.1:**   Complete Rosalind #1"
      ],
      "metadata": {
        "id": "GtjxkNHWN5Xo"
      }
    },
    {
      "cell_type": "code",
      "source": [
        "y=2+3\n",
        "print(y)\n",
        "x==y"
      ],
      "metadata": {
        "id": "45s9c4vyQm2U",
        "colab": {
          "base_uri": "https://localhost:8080/"
        },
        "outputId": "f5697a08-b720-4fcf-9035-d5375de0e0d9"
      },
      "execution_count": null,
      "outputs": [
        {
          "output_type": "stream",
          "name": "stdout",
          "text": [
            "5\n"
          ]
        },
        {
          "output_type": "execute_result",
          "data": {
            "text/plain": [
              "True"
            ]
          },
          "metadata": {},
          "execution_count": 8
        }
      ]
    },
    {
      "cell_type": "markdown",
      "source": [
        "# **<font color=blue>P6. </font>** ```input()``` gets input from the user"
      ],
      "metadata": {
        "id": "3yswDberkE7N"
      }
    },
    {
      "cell_type": "markdown",
      "source": [
        "TASK P6.1"
      ],
      "metadata": {
        "id": "z97rSY9gqdad"
      }
    },
    {
      "cell_type": "code",
      "metadata": {
        "colab": {
          "base_uri": "https://localhost:8080/"
        },
        "id": "d91046dd",
        "outputId": "b0115ae9-f980-47d9-d895-660028b14264"
      },
      "source": [
        "name = input(\"Enter your name: \")\n",
        "print(\"Hello, \" + name)"
      ],
      "execution_count": null,
      "outputs": [
        {
          "output_type": "stream",
          "name": "stdout",
          "text": [
            "Enter your name: Fatima\n",
            "Hello, Fatima\n"
          ]
        }
      ]
    },
    {
      "cell_type": "markdown",
      "source": [
        "####**TASK P6.2:** Solve Rosalind #1 again, but get user input for the values of a and b rather than modifying the code."
      ],
      "metadata": {
        "id": "e3LaAQeLRmE6"
      }
    },
    {
      "cell_type": "code",
      "source": [
        "a= int(input(\"enter a value for a:\"))\n",
        "b= int(input(\"enter a value for b:\"))\n",
        "c=a**2+b**2\n",
        "print (\"The sq of the hypotenuse is\",c)"
      ],
      "metadata": {
        "id": "wZ0XL0L6Rq2H",
        "colab": {
          "base_uri": "https://localhost:8080/"
        },
        "outputId": "b5d930a1-d688-475c-a3a3-2dacada411c3"
      },
      "execution_count": null,
      "outputs": [
        {
          "output_type": "stream",
          "name": "stdout",
          "text": [
            "enter a value for a:983\n",
            "enter a value for b:961\n",
            "The sq of the hypotenuse is 1889810\n"
          ]
        }
      ]
    },
    {
      "cell_type": "markdown",
      "source": [
        "# **<font color=blue>P7. </font>** ```list``` type variables (create, replace, append)"
      ],
      "metadata": {
        "id": "4IM-9eAGkPdi"
      }
    },
    {
      "cell_type": "markdown",
      "source": [
        "####**TASK P7.1**"
      ],
      "metadata": {
        "id": "DhNGdYK6NEpe"
      }
    },
    {
      "cell_type": "code",
      "source": [
        "# Create a list with 3 elements and then print them\n",
        "\n",
        "my_list = [\"Hello\", \"World\", \"Charles Darwin\"]\n",
        "print (my_list[1])"
      ],
      "metadata": {
        "id": "N3VRRQIEkXuP",
        "colab": {
          "base_uri": "https://localhost:8080/"
        },
        "outputId": "c1db7192-b9f7-4d95-8c5c-8dc58a4312c2"
      },
      "execution_count": null,
      "outputs": [
        {
          "output_type": "stream",
          "name": "stdout",
          "text": [
            "World\n"
          ]
        }
      ]
    },
    {
      "cell_type": "markdown",
      "source": [
        "####**TASK P7.2**"
      ],
      "metadata": {
        "id": "Yn3bAoi8NKy5"
      }
    },
    {
      "cell_type": "code",
      "source": [
        "# Substitute the item at index 2 in the list\n",
        "my_list[2] = \"Alfred R. Wallace\"\n",
        "print (my_list)"
      ],
      "metadata": {
        "id": "WNnsUuduOKbI",
        "colab": {
          "base_uri": "https://localhost:8080/"
        },
        "outputId": "3e9a9494-7ce3-4c71-9f23-2fcdca604ceb"
      },
      "execution_count": null,
      "outputs": [
        {
          "output_type": "stream",
          "name": "stdout",
          "text": [
            "['Hello', 'World', 'Alfred R. Wallace']\n"
          ]
        }
      ]
    },
    {
      "cell_type": "markdown",
      "source": [
        "####**TASK P7.3**"
      ],
      "metadata": {
        "id": "SxiMMNLyPwGV"
      }
    },
    {
      "cell_type": "code",
      "source": [
        "# Append an item to the end of the list\n",
        "my_list.append(\"Charles Darwin\")\n",
        "print (my_list)"
      ],
      "metadata": {
        "id": "3VrLc6CGQTi-",
        "colab": {
          "base_uri": "https://localhost:8080/"
        },
        "outputId": "c010b1cc-2af0-4f92-d271-7df200c29772"
      },
      "execution_count": null,
      "outputs": [
        {
          "output_type": "stream",
          "name": "stdout",
          "text": [
            "['Hello', 'World', 'Alfred R. Wallace', 'Charles Darwin']\n"
          ]
        }
      ]
    },
    {
      "cell_type": "markdown",
      "source": [
        "####**TASK P7.4**. Ask Gemini how to <font color=crimson>```insert```</font> a new item at index 1 in the list"
      ],
      "metadata": {
        "id": "XQKmwgbfQond"
      }
    },
    {
      "cell_type": "code",
      "source": [
        "# On line #2 insert an item at index 1 of my_list\n",
        "\n",
        "print (my_list)"
      ],
      "metadata": {
        "id": "u0maP5CZZN13",
        "colab": {
          "base_uri": "https://localhost:8080/"
        },
        "outputId": "669a4b67-4e67-4dd7-939c-01c73438d2d1"
      },
      "execution_count": null,
      "outputs": [
        {
          "output_type": "stream",
          "name": "stdout",
          "text": [
            "['Hello', 'World', 'Alfred R. Wallace', 'Charles Darwin']\n"
          ]
        }
      ]
    },
    {
      "cell_type": "markdown",
      "source": [
        "# **<font color=blue>P8. </font>** Slicing lists and strings"
      ],
      "metadata": {
        "id": "nlBbe3qBRH_J"
      }
    },
    {
      "cell_type": "markdown",
      "source": [
        "####**TASK P8.1** Slice and print only the middle two elements from the list created in P7 (i.e. only <font color=magenta>World</font> and <font color=magenta>Alfred R. Wallace</font>).  "
      ],
      "metadata": {
        "id": "M0YW2MP0WtuI"
      }
    },
    {
      "cell_type": "code",
      "source": [
        "print (my_list[2:4])"
      ],
      "metadata": {
        "colab": {
          "base_uri": "https://localhost:8080/"
        },
        "id": "Tp1djNtiaxSb",
        "outputId": "e3e1d3bc-c5c0-40f2-edc5-c4460311a3f7"
      },
      "execution_count": null,
      "outputs": [
        {
          "output_type": "stream",
          "name": "stdout",
          "text": [
            "['Alfred R. Wallace', 'Charles Darwin']\n"
          ]
        }
      ]
    },
    {
      "cell_type": "markdown",
      "source": [
        "####**TASK P8.2**: Print <font color=magenta>Wallace World</font> from **my_string** by slicing\n"
      ],
      "metadata": {
        "id": "_F9KCUzCd3ID"
      }
    },
    {
      "cell_type": "code",
      "source": [
        "my_string = \"HelloWorldCharlesDarwinAlfred R. Walace\"\n",
        "print (my_string[0:5],my_string[5:10])\n",
        "\n",
        "# in the print command below input the correct index values to complete Task P8.2\n",
        "print (my_string[33 :39],my_string[0 :5 ])"
      ],
      "metadata": {
        "colab": {
          "base_uri": "https://localhost:8080/"
        },
        "id": "AafKngtba8En",
        "outputId": "880184f4-7d92-4594-d209-9523251b3c96"
      },
      "execution_count": null,
      "outputs": [
        {
          "output_type": "stream",
          "name": "stdout",
          "text": [
            "Hello World\n",
            "Walace Hello\n"
          ]
        }
      ]
    },
    {
      "cell_type": "markdown",
      "source": [
        "####**TASK P8.3**  **<font color = orange> Complete Rosalind Problem #2 Strings and Lists</font>**"
      ],
      "metadata": {
        "id": "2TTQVE-Xf8jR"
      }
    },
    {
      "cell_type": "code",
      "source": [
        "# Enter code for Rosalind 2 here:\n",
        "input_string = input()\n",
        "# Extract the two slices (inclusive of end indices)\n",
        "slice1 = input_string[86 : 93 + 1]\n",
        "slice2 = input_string[ 120 :129  + 1]\n",
        "\n",
        "# Print the two slices with a space in between\n",
        "print(slice1, slice2)"
      ],
      "metadata": {
        "id": "LI88f5RZh4GL",
        "colab": {
          "base_uri": "https://localhost:8080/"
        },
        "outputId": "c5a3a7d3-1763-4013-b085-3e2b6a952dec"
      },
      "execution_count": null,
      "outputs": [
        {
          "output_type": "stream",
          "name": "stdout",
          "text": [
            "BRUZdPQjBnlPp3dBNeIHSFKlPXI3juHcYuwJqM2iDbxhR2EmomoefGTUv67kjHJ5b4fSBgUlntHnZXmp7qErAZBubulcusXNbneRmH7gU0COSLNrLHxN9rTFmicrolepis2vKxvzCK4sTNP9wu9Oi1HVz06uMMNFIXeZIGMLuAVxCehU9KKc13qCWNjMU.\n",
            "Bubulcus microlepis\n"
          ]
        }
      ]
    },
    {
      "cell_type": "markdown",
      "source": [
        "####**<font color=crimson>TASK 8.4 Commit to GitHub**</font>*italicized text*"
      ],
      "metadata": {
        "id": "Tw6Pwh6TjwJ9"
      }
    },
    {
      "cell_type": "markdown",
      "source": [
        "# **<font color=blue>P9. </font>** ```if``` and ```else``` - conditional output"
      ],
      "metadata": {
        "id": "iHFNxm30lzic"
      }
    },
    {
      "cell_type": "markdown",
      "source": [
        "####**TASK P9.1** Create some code that subtracts two numbers if they are different or adds them if they are the same."
      ],
      "metadata": {
        "id": "WCXnGdftztbN"
      }
    },
    {
      "cell_type": "code",
      "source": [
        "a=5\n",
        "b=5\n",
        "\n",
        "if a!=b:\n",
        "  print(a-b)\n",
        "\n",
        "else:\n",
        "  print(a+b)"
      ],
      "metadata": {
        "id": "KabZsL5Fy8jJ",
        "colab": {
          "base_uri": "https://localhost:8080/"
        },
        "outputId": "b9475253-81bc-452e-813e-b9de4238df79"
      },
      "execution_count": null,
      "outputs": [
        {
          "output_type": "stream",
          "name": "stdout",
          "text": [
            "10\n"
          ]
        }
      ]
    },
    {
      "cell_type": "code",
      "source": [
        "a=9\n",
        "b=5\n",
        "\n",
        "if a!=b:\n",
        "  print(a-b)\n",
        "\n",
        "else:\n",
        "  print(a+b)"
      ],
      "metadata": {
        "colab": {
          "base_uri": "https://localhost:8080/"
        },
        "outputId": "1bf18c3b-2ee9-4b9b-a0cd-32afa2dd6a97",
        "id": "kAuCqYShCQ1N"
      },
      "execution_count": null,
      "outputs": [
        {
          "output_type": "stream",
          "name": "stdout",
          "text": [
            "4\n"
          ]
        }
      ]
    },
    {
      "cell_type": "markdown",
      "source": [
        "# **<font color=blue>P10.</font>** ```while``` loops"
      ],
      "metadata": {
        "id": "sOgq54Op4MZL"
      }
    },
    {
      "cell_type": "markdown",
      "source": [
        "####**TASK P10.1** Create a while loop that runs 3 times\n"
      ],
      "metadata": {
        "id": "JMqGqhTn4l9s"
      }
    },
    {
      "cell_type": "code",
      "source": [
        "# initiate a counter\n",
        "a = 1\n",
        "\n",
        "# print \"Counting!\" while a <= 3\n",
        "while a <= 3:\n",
        "    print(\"Counting!\" * a)\n",
        "    a += 1\n"
      ],
      "metadata": {
        "colab": {
          "base_uri": "https://localhost:8080/"
        },
        "id": "rF4stIqsE8Mi",
        "outputId": "30979f77-52d6-4cfb-e43d-08a4bf29de7f"
      },
      "execution_count": null,
      "outputs": [
        {
          "output_type": "stream",
          "name": "stdout",
          "text": [
            "Counting!\n",
            "Counting!Counting!\n",
            "Counting!Counting!Counting!\n"
          ]
        }
      ]
    },
    {
      "cell_type": "markdown",
      "source": [
        "# **<font color=blue>P11.</font>** ```for``` loops – looping over lists"
      ],
      "metadata": {
        "id": "R5_dYi9f6t1z"
      }
    },
    {
      "cell_type": "markdown",
      "source": [
        "####**TASK P11.1** Create a for loop to print each item in a list\n"
      ],
      "metadata": {
        "id": "x9F7v_V073wO"
      }
    },
    {
      "cell_type": "code",
      "source": [
        "names = [\"Alice\",\"Bob\",\"Charley\"]\n",
        "\n",
        "for name in names:\n",
        "    print (\"Hello\", name)"
      ],
      "metadata": {
        "id": "-aqaQ5hz70yo",
        "colab": {
          "base_uri": "https://localhost:8080/"
        },
        "outputId": "2d92c167-900a-4ed7-9f09-85d674cecb91"
      },
      "execution_count": null,
      "outputs": [
        {
          "output_type": "stream",
          "name": "stdout",
          "text": [
            "Hello Alice\n",
            "Hello Bob\n",
            "Hello Charley\n"
          ]
        }
      ]
    },
    {
      "cell_type": "code",
      "source": [],
      "metadata": {
        "id": "Yl5oOsswHEOc"
      },
      "execution_count": null,
      "outputs": []
    },
    {
      "cell_type": "code",
      "source": [
        "names = [\"Fatimoh\",\"Ikeoluwa\",\"Egbinola\"]\n",
        "\n",
        "for name in names:\n",
        "    print (\"Hello\", name)"
      ],
      "metadata": {
        "colab": {
          "base_uri": "https://localhost:8080/"
        },
        "outputId": "dafbfbd2-d2a3-44e9-a486-52883bbc09a8",
        "id": "ek-Ndl_2HHlQ"
      },
      "execution_count": null,
      "outputs": [
        {
          "output_type": "stream",
          "name": "stdout",
          "text": [
            "Hello Fatimoh\n",
            "Hello Ikeoluwa\n",
            "Hello Egbinola\n"
          ]
        }
      ]
    },
    {
      "cell_type": "markdown",
      "source": [
        "# **<font color=blue>P12.</font>** ```for``` loops over a ```range()```of numbers"
      ],
      "metadata": {
        "id": "LdtXZ0LW9ugo"
      }
    },
    {
      "cell_type": "markdown",
      "source": [
        "####**TASK 12.1** Using for and range(), create code that prints the numbers 0-9"
      ],
      "metadata": {
        "id": "jG6jvXEBDi4H"
      }
    },
    {
      "cell_type": "code",
      "source": [
        "# Create a variable to define the  number of iterations\n",
        "iterations = 10\n",
        "\n",
        "#Print the current item's value each time through the loop\n",
        "for number in range(iterations):\n",
        "    print (number)"
      ],
      "metadata": {
        "colab": {
          "base_uri": "https://localhost:8080/"
        },
        "id": "RFBXqQNu_E6X",
        "outputId": "be37c447-e0b4-4e9b-a338-242f2152c285"
      },
      "execution_count": null,
      "outputs": [
        {
          "output_type": "stream",
          "name": "stdout",
          "text": [
            "0\n",
            "1\n",
            "2\n",
            "3\n",
            "4\n",
            "5\n",
            "6\n",
            "7\n",
            "8\n",
            "9\n"
          ]
        }
      ]
    },
    {
      "cell_type": "markdown",
      "source": [
        "####**TASK 12.2** Modify the code so that it only prints every 3rd number from 9 through 27 (i.e. including 27)"
      ],
      "metadata": {
        "id": "NRd5srR_G-PQ"
      }
    },
    {
      "cell_type": "code",
      "source": [
        "# Modify the code to print every 3rd number from 9 through 27\n",
        "# start counter at 9\n",
        "a = 9\n",
        "\n",
        "# loop to print every 3rd number from 9 through 27\n",
        "while a <= 27:\n",
        "    print(a)\n",
        "    a += 3\n"
      ],
      "metadata": {
        "colab": {
          "base_uri": "https://localhost:8080/"
        },
        "outputId": "a34abc7e-3615-443c-9eda-8e290168af37",
        "id": "I_NbMnv3I04k"
      },
      "execution_count": null,
      "outputs": [
        {
          "output_type": "stream",
          "name": "stdout",
          "text": [
            "9\n",
            "12\n",
            "15\n",
            "18\n",
            "21\n",
            "24\n",
            "27\n"
          ]
        }
      ]
    },
    {
      "cell_type": "markdown",
      "source": [
        "####**TASK 12.3** <font color = orange> **Complete Rosalind Problem #3 Conditions and Loops** </font>"
      ],
      "metadata": {
        "id": "83jDEjpMHXUa"
      }
    },
    {
      "cell_type": "code",
      "source": [
        "# Enter code for Rosalind 3 here:\n",
        "# Read input\n",
        "a, b = map(int, input().split())\n",
        "\n",
        "# Initialize sum\n",
        "total = 0\n",
        "\n",
        "# Loop through numbers in range\n",
        "for i in range(a, b + 1):\n",
        "    if i % 2 != 0:  # check if odd\n",
        "        total += i\n",
        "\n",
        "# Print result\n",
        "print(total)"
      ],
      "metadata": {
        "id": "EI7hRtakG90R",
        "colab": {
          "base_uri": "https://localhost:8080/"
        },
        "outputId": "55cb571a-a039-407a-d645-d3f5c5880a7c"
      },
      "execution_count": null,
      "outputs": [
        {
          "output_type": "stream",
          "name": "stdout",
          "text": [
            "4031 8633\n",
            "14576264\n"
          ]
        }
      ]
    },
    {
      "cell_type": "markdown",
      "source": [
        "####**<font color=crimson>TASK 12.4 Commit to GitHub**</font>"
      ],
      "metadata": {
        "id": "3P9DKNbPI1wp"
      }
    },
    {
      "cell_type": "markdown",
      "source": [
        "# **<font color=blue>P13.</font>** File I/O – with open(\"filename\", \"mode\") as filehandle:\n"
      ],
      "metadata": {
        "id": "i4Fo-ddSKWwy"
      }
    },
    {
      "cell_type": "markdown",
      "source": [
        "####**TASK P13.1** Use the ```read()``` function to print the <font color = orange>practice dataset from Rosalind #4</font>\n"
      ],
      "metadata": {
        "id": "sgc3wiQmLXcI"
      }
    },
    {
      "cell_type": "code",
      "source": [
        "with open(\"practice.txt\",\"r\") as data:\n",
        "\n",
        "    print(data.read())\n",
        "\n",
        "    #print(data.readline())\n",
        "\n",
        "    #print(data.readlines())"
      ],
      "metadata": {
        "id": "V5nzHsnULA_n",
        "colab": {
          "base_uri": "https://localhost:8080/"
        },
        "outputId": "06d7501b-ff9a-421d-b63e-54d95e7fdfee"
      },
      "execution_count": null,
      "outputs": [
        {
          "output_type": "stream",
          "name": "stdout",
          "text": [
            "Bravely bold Sir Robin rode forth from Camelot\n",
            "Yes, brave Sir Robin turned about\n",
            "He was not afraid to die, O brave Sir Robin\n",
            "And gallantly he chickened out\n",
            "He was not at all afraid to be killed in nasty ways\n",
            "Bravely talking to his feet\n",
            "Brave, brave, brave, brave Sir Robin\n",
            "He beat a very brave retreat\n"
          ]
        }
      ]
    },
    {
      "cell_type": "markdown",
      "source": [
        "####**TASK P13.2** Explore file object functions to read and print practice.txt"
      ],
      "metadata": {
        "id": "GLO6tBYNVzYZ"
      }
    },
    {
      "cell_type": "code",
      "source": [
        "with open(\"practice.txt\",\"r\") as data:\n",
        "\n",
        "    print(data.read())\n",
        "\n",
        "    print(data.readline())\n",
        "\n",
        "    print(data.readlines())\n",
        "\n"
      ],
      "metadata": {
        "colab": {
          "base_uri": "https://localhost:8080/"
        },
        "outputId": "e1a39926-1780-46aa-a984-68086bc9678d",
        "id": "xM5EBLbEPMyR"
      },
      "execution_count": null,
      "outputs": [
        {
          "output_type": "stream",
          "name": "stdout",
          "text": [
            "Bravely bold Sir Robin rode forth from Camelot\n",
            "Yes, brave Sir Robin turned about\n",
            "He was not afraid to die, O brave Sir Robin\n",
            "And gallantly he chickened out\n",
            "He was not at all afraid to be killed in nasty ways\n",
            "Bravely talking to his feet\n",
            "Brave, brave, brave, brave Sir Robin\n",
            "He beat a very brave retreat\n",
            "\n",
            "[]\n"
          ]
        }
      ]
    },
    {
      "cell_type": "markdown",
      "source": [
        "#<font color=blue>**P14.**</font> Store the content, close the file, and join ( ) the list"
      ],
      "metadata": {
        "id": "iupO8iI-ZYAe"
      }
    },
    {
      "cell_type": "code",
      "source": [
        "with open(\"practice.txt\",\"r\") as data:\n",
        "\n",
        "  list_of_lines=data.readlines()\n",
        "\n",
        "print (list_of_lines)"
      ],
      "metadata": {
        "id": "8U5w2qOudDyp",
        "colab": {
          "base_uri": "https://localhost:8080/"
        },
        "outputId": "d8dcfb6d-a947-4260-8d50-73b9e1359c6e"
      },
      "execution_count": null,
      "outputs": [
        {
          "output_type": "stream",
          "name": "stdout",
          "text": [
            "['Bravely bold Sir Robin rode forth from Camelot\\n', 'Yes, brave Sir Robin turned about\\n', 'He was not afraid to die, O brave Sir Robin\\n', 'And gallantly he chickened out\\n', 'He was not at all afraid to be killed in nasty ways\\n', 'Bravely talking to his feet\\n', 'Brave, brave, brave, brave Sir Robin\\n', 'He beat a very brave retreat']\n"
          ]
        }
      ]
    },
    {
      "cell_type": "markdown",
      "source": [
        "####**TASK P14.1** Read practice.txt into a list of lines. Then, after the file is closed, use the join ( ) function to print the contents so it looks like the original input."
      ],
      "metadata": {
        "id": "5pPhGmQYiiKx"
      }
    },
    {
      "cell_type": "code",
      "source": [
        "print (\"\".join(list_of_lines))"
      ],
      "metadata": {
        "id": "XLvFZ9uSeyYH",
        "colab": {
          "base_uri": "https://localhost:8080/"
        },
        "outputId": "4302be58-1c60-4a85-ec0d-f84c9e325c9a"
      },
      "execution_count": null,
      "outputs": [
        {
          "output_type": "stream",
          "name": "stdout",
          "text": [
            "Bravely bold Sir Robin rode forth from Camelot\n",
            "Yes, brave Sir Robin turned about\n",
            "He was not afraid to die, O brave Sir Robin\n",
            "And gallantly he chickened out\n",
            "He was not at all afraid to be killed in nasty ways\n",
            "Bravely talking to his feet\n",
            "Brave, brave, brave, brave Sir Robin\n",
            "He beat a very brave retreat\n"
          ]
        }
      ]
    },
    {
      "cell_type": "markdown",
      "source": [
        "#<font color=blue>**P15.**</font> Combining for loops with file objects"
      ],
      "metadata": {
        "id": "lY924yM0jckW"
      }
    },
    {
      "cell_type": "markdown",
      "source": [
        "####**TASK P15.1** Use a for loop to print each line in practice.txt"
      ],
      "metadata": {
        "id": "NvqGEl4JjpiO"
      }
    },
    {
      "cell_type": "code",
      "source": [
        "with open(\"practice.txt\",\"r\") as data:\n",
        "\n",
        "  for line in data:\n",
        "    print (line)"
      ],
      "metadata": {
        "id": "snY-10pUkMby",
        "colab": {
          "base_uri": "https://localhost:8080/"
        },
        "outputId": "45f83f28-f9ab-46b2-b369-d6f4266c49f3"
      },
      "execution_count": null,
      "outputs": [
        {
          "output_type": "stream",
          "name": "stdout",
          "text": [
            "Bravely bold Sir Robin rode forth from Camelot\n",
            "\n",
            "Yes, brave Sir Robin turned about\n",
            "\n",
            "He was not afraid to die, O brave Sir Robin\n",
            "\n",
            "And gallantly he chickened out\n",
            "\n",
            "He was not at all afraid to be killed in nasty ways\n",
            "\n",
            "Bravely talking to his feet\n",
            "\n",
            "Brave, brave, brave, brave Sir Robin\n",
            "\n",
            "He beat a very brave retreat\n"
          ]
        }
      ]
    },
    {
      "cell_type": "code",
      "source": [
        "with open(\"practice.txt\",\"r\") as data:\n",
        "\n",
        "  for line in data:\n",
        "    print (line.rstrip())"
      ],
      "metadata": {
        "colab": {
          "base_uri": "https://localhost:8080/"
        },
        "outputId": "2bec55ad-d7ca-4db9-f93a-8dcf5a7b30c9",
        "id": "mJETZ7M9TCF5"
      },
      "execution_count": null,
      "outputs": [
        {
          "output_type": "stream",
          "name": "stdout",
          "text": [
            "Bravely bold Sir Robin rode forth from Camelot\n",
            "Yes, brave Sir Robin turned about\n",
            "He was not afraid to die, O brave Sir Robin\n",
            "And gallantly he chickened out\n",
            "He was not at all afraid to be killed in nasty ways\n",
            "Bravely talking to his feet\n",
            "Brave, brave, brave, brave Sir Robin\n",
            "He beat a very brave retreat\n"
          ]
        }
      ]
    },
    {
      "cell_type": "markdown",
      "source": [
        "####**TASK P15.2** <font color=orange>**Complete Rosalind Problem #4 Working with Files**</font>\n"
      ],
      "metadata": {
        "id": "DHzE7CI4lWGw"
      }
    },
    {
      "cell_type": "code",
      "source": [
        "# Sample dataset as a string\n",
        "data = \"\"\"`Twas brillig, and the slithy toves\n",
        "Some things in life are bad, they can really make you mad\n",
        "  Did gyre and gimble in the wabe:\n",
        "Other things just make you swear and curse\n",
        "All mimsy were the borogoves,\n",
        "When you're chewing on life's gristle, don't grumble give a whistle\n",
        "  And the mome raths outgrabe.\n",
        "This will help things turn out for the best\n",
        "\"Beware the Jabberwock, my son!\n",
        "Always look on the bright side of life\n",
        "  The jaws that bite, the claws that catch!\n",
        "Always look on the right side of life\n",
        "Beware the Jubjub bird, and shun\n",
        "If life seems jolly rotten, there's something you've forgotten\n",
        "  The frumious Bandersnatch!\"\n",
        "And that's to laugh and smile and dance and sing\n",
        "He took his vorpal sword in hand:\n",
        "When you're feeling in the dumps, don't be silly, chumps\n",
        "  Long time the manxome foe he sought --\n",
        "Just purse your lips and whistle, that's the thing\n",
        "So rested he by the Tumtum tree,\n",
        "So, always look on the bright side of death\n",
        "  And stood awhile in thought.\n",
        "Just before you draw your terminal breath\n",
        "And, as in uffish thought he stood,\n",
        "Life's a counterfeit and when you look at it\n",
        "  The Jabberwock, with eyes of flame,\n",
        "Life's a laugh and death's the joke, it's true\n",
        "Came whiffling through the tulgey wood,\n",
        "You see, it's all a show, keep them laughing as you go\n",
        "  And burbled as it came!\n",
        "Just remember the last laugh is on you\n",
        "One, two! One, two! And through and through\n",
        "Always look on the bright side of life\n",
        "  The vorpal blade went snicker-snack!\n",
        "And always look on the right side of life\n",
        "He left it dead, and with its head\n",
        "Always look on the bright side of life\n",
        "  He went galumphing back.\n",
        "And always look on the right side of life\"\"\"\n",
        "\n",
        "# Split the string into lines\n",
        "lines = data.split(\"\\n\")\n",
        "\n",
        "# Print only the even-numbered lines (1-based indexing)\n",
        "for i, line in enumerate(lines, start=1):\n",
        "    if i % 2 == 0:\n",
        "        print(line)\n"
      ],
      "metadata": {
        "id": "8QR9dRFtltBN",
        "colab": {
          "base_uri": "https://localhost:8080/"
        },
        "outputId": "b9ac27a6-931a-48c5-aa7c-2e3b70cc6dc4"
      },
      "execution_count": null,
      "outputs": [
        {
          "output_type": "stream",
          "name": "stdout",
          "text": [
            "Some things in life are bad, they can really make you mad\n",
            "Other things just make you swear and curse\n",
            "When you're chewing on life's gristle, don't grumble give a whistle\n",
            "This will help things turn out for the best\n",
            "Always look on the bright side of life\n",
            "Always look on the right side of life\n",
            "If life seems jolly rotten, there's something you've forgotten\n",
            "And that's to laugh and smile and dance and sing\n",
            "When you're feeling in the dumps, don't be silly, chumps\n",
            "Just purse your lips and whistle, that's the thing\n",
            "So, always look on the bright side of death\n",
            "Just before you draw your terminal breath\n",
            "Life's a counterfeit and when you look at it\n",
            "Life's a laugh and death's the joke, it's true\n",
            "You see, it's all a show, keep them laughing as you go\n",
            "Just remember the last laugh is on you\n",
            "Always look on the bright side of life\n",
            "And always look on the right side of life\n",
            "Always look on the bright side of life\n",
            "And always look on the right side of life\n"
          ]
        }
      ]
    },
    {
      "cell_type": "code",
      "source": [
        "# Split the string into lines\n",
        "lines = data.split(\"\\n\")\n",
        "\n",
        "# Slice the list to get even-numbered lines (index 1, 3, 5... because 0-based indexing)\n",
        "even_lines = lines[1::2]  # start at index 1, step by 2\n",
        "\n",
        "# Join them back into one string with newlines\n",
        "result = \"\\n\".join(even_lines)\n",
        "\n",
        "print(result)\n"
      ],
      "metadata": {
        "colab": {
          "base_uri": "https://localhost:8080/"
        },
        "id": "ctOAq01sg5v3",
        "outputId": "890f6a52-f576-42cd-f3d0-b18912cae85c"
      },
      "execution_count": null,
      "outputs": [
        {
          "output_type": "stream",
          "name": "stdout",
          "text": [
            "Some things in life are bad, they can really make you mad\n",
            "Other things just make you swear and curse\n",
            "When you're chewing on life's gristle, don't grumble give a whistle\n",
            "This will help things turn out for the best\n",
            "Always look on the bright side of life\n",
            "Always look on the right side of life\n",
            "If life seems jolly rotten, there's something you've forgotten\n",
            "And that's to laugh and smile and dance and sing\n",
            "When you're feeling in the dumps, don't be silly, chumps\n",
            "Just purse your lips and whistle, that's the thing\n",
            "So, always look on the bright side of death\n",
            "Just before you draw your terminal breath\n",
            "Life's a counterfeit and when you look at it\n",
            "Life's a laugh and death's the joke, it's true\n",
            "You see, it's all a show, keep them laughing as you go\n",
            "Just remember the last laugh is on you\n",
            "Always look on the bright side of life\n",
            "And always look on the right side of life\n",
            "Always look on the bright side of life\n",
            "And always look on the right side of life\n"
          ]
        }
      ]
    },
    {
      "cell_type": "markdown",
      "source": [
        "####**<font color=crimson>TASK 15.4 Commit to GitHub**</font>"
      ],
      "metadata": {
        "id": "GJ_acW4WlwDn"
      }
    },
    {
      "cell_type": "markdown",
      "source": [
        "#<font color=blue>**P16.**</font> ```for word in line.split()``` – looping over strings and splitting by any delimiter"
      ],
      "metadata": {
        "id": "WD5wnvQkmh6E"
      }
    },
    {
      "cell_type": "markdown",
      "source": [
        "####**TASK P16.1** Print each word in the ROSALIND Problem #5 Sample Dataset on a separate line.\n"
      ],
      "metadata": {
        "id": "kApNvgOLn8lp"
      }
    },
    {
      "cell_type": "code",
      "source": [
        "with open(\"practice_5.txt\",\"r\") as data:\n",
        "\n",
        "  line=data.read()\n",
        "\n",
        "for word in line.split():\n",
        "    print (word)"
      ],
      "metadata": {
        "colab": {
          "base_uri": "https://localhost:8080/"
        },
        "id": "PBjyhwclpKoM",
        "outputId": "83cac87a-0c84-41bc-cb6f-62a832715490"
      },
      "execution_count": null,
      "outputs": [
        {
          "output_type": "stream",
          "name": "stdout",
          "text": [
            "and\n",
            "1\n",
            "We\n",
            "1\n",
            "tried\n",
            "3\n",
            "dicts\n",
            "1\n",
            "list\n",
            "1\n",
            "we\n",
            "2\n",
            "also\n",
            "1\n",
            "Zen\n",
            "1\n"
          ]
        }
      ]
    },
    {
      "cell_type": "markdown",
      "source": [
        "#<font color=blue>**P17.**</font> Python Dictionaries { }"
      ],
      "metadata": {
        "id": "kq9QbEttnA4h"
      }
    },
    {
      "cell_type": "markdown",
      "source": [
        "####**TASK 17.1** Create and print your first dictionary"
      ],
      "metadata": {
        "id": "lVudFQkZqJgh"
      }
    },
    {
      "cell_type": "code",
      "source": [
        "sequences = {\n",
        "    \"H.neandertalensis\":\"ACGTCGCTCTGCTA\",\n",
        "    \"H.sapiens\":\"ACGTCACTCTGCTA\"\n",
        "    }\n",
        "\n",
        "print (sequences)"
      ],
      "metadata": {
        "colab": {
          "base_uri": "https://localhost:8080/"
        },
        "id": "IzKFWDlgq6zo",
        "outputId": "99dd06e1-9e8b-46a3-8e49-edbeda4c8b90"
      },
      "execution_count": null,
      "outputs": [
        {
          "output_type": "stream",
          "name": "stdout",
          "text": [
            "{'H.neandertalensis': 'ACGTCGCTCTGCTA', 'H.sapiens': 'ACGTCACTCTGCTA'}\n"
          ]
        }
      ]
    },
    {
      "cell_type": "markdown",
      "source": [
        "##TASK 17.2"
      ],
      "metadata": {
        "id": "AmoRFJxbkq5_"
      }
    },
    {
      "cell_type": "code",
      "source": [
        "my_dictionary={\"CD\": \"Charles Darwin\", \"ARW\": \"Alfred R. Wallace\", \"Hello\": \"World\"}\n",
        "\n",
        "print(my_dictionary[\"CD\"])"
      ],
      "metadata": {
        "colab": {
          "base_uri": "https://localhost:8080/"
        },
        "id": "scWTx6Afjo9O",
        "outputId": "b022dc6e-e8a4-4e05-d19e-7934673e6c7a"
      },
      "execution_count": null,
      "outputs": [
        {
          "output_type": "stream",
          "name": "stdout",
          "text": [
            "Charles Darwin\n"
          ]
        }
      ]
    },
    {
      "cell_type": "markdown",
      "source": [
        "#<font color=blue>**P18.**</font> Manipulating and printing dictionaries"
      ],
      "metadata": {
        "id": "OvqoT6UwnK0g"
      }
    },
    {
      "cell_type": "markdown",
      "source": [
        "####**TASK 18.1** Modify line 8 to create a fasta file of the hominid sequences"
      ],
      "metadata": {
        "id": "5Be2tcQRrjso"
      }
    },
    {
      "cell_type": "code",
      "source": [
        "sequences[\"P.troglodytes\"]=\"ACGTCACTCTCCTA\"\n",
        "\n",
        "sequences.update({\"G.gorilla\":\"ACGTCCTCCTA\", \"H.erectus\":\"ACGTCACTCTGCTA\"})\n",
        "\n",
        "print (sequences[\"H.sapiens\"])\n",
        "\n",
        "for key,value in sequences.items():\n",
        "     print (key,value)"
      ],
      "metadata": {
        "colab": {
          "base_uri": "https://localhost:8080/"
        },
        "id": "b-2XDof4rtP8",
        "outputId": "1e998098-f26e-4df1-fd79-38816a84ee15"
      },
      "execution_count": null,
      "outputs": [
        {
          "output_type": "stream",
          "name": "stdout",
          "text": [
            "ACGTCACTCTGCTA\n",
            "H.neandertalensis ACGTCGCTCTGCTA\n",
            "H.sapiens ACGTCACTCTGCTA\n",
            "P.troglodytes ACGTCACTCTCCTA\n",
            "G.gorilla ACGTCCTCCTA\n",
            "H.erectus ACGTCACTCTGCTA\n"
          ]
        }
      ]
    },
    {
      "cell_type": "code",
      "source": [
        "# Dictionary of sequences , Create a fasta file of the hominid sequences\n",
        "sequences = {\n",
        "    \"H.neandertalensis\": \"ACGTCGCTCTGCTA\",\n",
        "    \"H.sapiens\": \"ACGTCACTCTGCTA\",\n",
        "    \"P.troglodytes\": \"ACGTCACTCTCCTA\",\n",
        "    \"G.gorilla\": \"ACGTCCTCCTA\",\n",
        "    \"H.erectus\": \"ACGTCACTCTGCTA\"\n",
        "}\n",
        "\n",
        "# Write to a FASTA file\n",
        "with open(\"hominids.fasta\", \"w\") as fasta_file:\n",
        "    for name, seq in sequences.items():\n",
        "        fasta_file.write(f\">{name}\\n{seq}\\n\")\n",
        "\n",
        "print(\"FASTA file 'hominids.fasta' created successfully!\")"
      ],
      "metadata": {
        "colab": {
          "base_uri": "https://localhost:8080/"
        },
        "id": "HwUiVzgTn4DA",
        "outputId": "9997078a-9c74-419e-c74b-c67ee9f2bf7e"
      },
      "execution_count": null,
      "outputs": [
        {
          "output_type": "stream",
          "name": "stdout",
          "text": [
            "FASTA file 'hominids.fasta' created successfully!\n"
          ]
        }
      ]
    },
    {
      "cell_type": "markdown",
      "source": [
        "####**TASK P18.2** <font color= orange>**Complete Rosalind Problem #5  Dictionaries**</font>"
      ],
      "metadata": {
        "id": "Y98OZYUNvmWD"
      }
    },
    {
      "cell_type": "code",
      "source": [
        "# Input string\n",
        "s = \"When I find myself in times of trouble Mother Mary comes to me Speaking words of wisdom let it be And in my hour of darkness she is standing right in front of me Speaking words of wisdom let it be Let it be let it be let it be let it be Whisper words of wisdom let it be And when the broken hearted people living in the world agree There will be an answer let it be For though they may be parted there is still a chance that they will see There will be an answer let it be Let it be let it be let it be let it be There will be an answer let it be Let it be let it be let it be let it be Whisper words of wisdom let it be Let it be let it be let it be let it be Whisper words of wisdom let it be And when the night is cloudy there is still a light that shines on me Shine until tomorrow let it be I wake up to the sound of music Mother Mary comes to me Speaking words of wisdom let it be Let it be let it be let it be yeah let it be There will be an answer let it be Let it be let it be let it be yeah let it be Whisper words of wisdom let it be\"\n",
        "\n",
        "# Create empty dictionary\n",
        "counts = {}\n",
        "\n",
        "# Split the string into words and count\n",
        "for word in s.split():\n",
        "    counts[word] = counts.get(word, 0) + 1\n",
        "\n",
        "# Print results\n",
        "for key, value in counts.items():\n",
        "    print(key, value)\n"
      ],
      "metadata": {
        "id": "lD3KoTY9wWa7",
        "colab": {
          "base_uri": "https://localhost:8080/"
        },
        "outputId": "95c5a99c-c5aa-4b25-e112-b05de4547093"
      },
      "execution_count": null,
      "outputs": [
        {
          "output_type": "stream",
          "name": "stdout",
          "text": [
            "When 1\n",
            "I 2\n",
            "find 1\n",
            "myself 1\n",
            "in 4\n",
            "times 1\n",
            "of 11\n",
            "trouble 1\n",
            "Mother 2\n",
            "Mary 2\n",
            "comes 2\n",
            "to 3\n",
            "me 4\n",
            "Speaking 3\n",
            "words 7\n",
            "wisdom 7\n",
            "let 30\n",
            "it 36\n",
            "be 41\n",
            "And 3\n",
            "my 1\n",
            "hour 1\n",
            "darkness 1\n",
            "she 1\n",
            "is 4\n",
            "standing 1\n",
            "right 1\n",
            "front 1\n",
            "Let 6\n",
            "Whisper 4\n",
            "when 2\n",
            "the 4\n",
            "broken 1\n",
            "hearted 1\n",
            "people 1\n",
            "living 1\n",
            "world 1\n",
            "agree 1\n",
            "There 4\n",
            "will 5\n",
            "an 4\n",
            "answer 4\n",
            "For 1\n",
            "though 1\n",
            "they 2\n",
            "may 1\n",
            "parted 1\n",
            "there 2\n",
            "still 2\n",
            "a 2\n",
            "chance 1\n",
            "that 2\n",
            "see 1\n",
            "night 1\n",
            "cloudy 1\n",
            "light 1\n",
            "shines 1\n",
            "on 1\n",
            "Shine 1\n",
            "until 1\n",
            "tomorrow 1\n",
            "wake 1\n",
            "up 1\n",
            "sound 1\n",
            "music 1\n",
            "yeah 2\n"
          ]
        }
      ]
    },
    {
      "cell_type": "markdown",
      "source": [
        "#**Pseudocode for Rosalind #5**"
      ],
      "metadata": {
        "id": "I486YIRXq225"
      }
    },
    {
      "cell_type": "code",
      "source": [
        "# 1. Open the data file\n",
        "with open('rosalind_ininow.txt', 'r') as file:\n",
        "    # 2. Read the file (a single line of words)\n",
        "    data = file.read().strip()\n",
        "\n",
        "    # 3. Initiate an empty dictionary\n",
        "    word_count = {}\n",
        "\n",
        "    # 4. Loop over the file getting words one at a time\n",
        "    words = data.split()\n",
        "    for word in words:\n",
        "        # 5. Check each word to see if it is already in the dictionary\n",
        "        if word in word_count:\n",
        "            # 5a. if it is in the dictionary, add 1 to the value\n",
        "            word_count[word] += 1\n",
        "        else:\n",
        "            # 5b. if it is not in the dictionary, make it a new key with value = 1\n",
        "            word_count[word] = 1\n",
        "\n",
        "    # 6. Print the key, value pairs for the whole dictionary\n",
        "    for word, count in word_count.items():\n",
        "        print(word, count)"
      ],
      "metadata": {
        "id": "_eOzMNIQtCfE",
        "colab": {
          "base_uri": "https://localhost:8080/"
        },
        "outputId": "b2ffb1e0-9aa6-41a3-8967-ce2fb3d1bf7c"
      },
      "execution_count": null,
      "outputs": [
        {
          "output_type": "stream",
          "name": "stdout",
          "text": [
            "When 1\n",
            "I 2\n",
            "find 1\n",
            "myself 1\n",
            "in 4\n",
            "times 1\n",
            "of 11\n",
            "trouble 1\n",
            "Mother 2\n",
            "Mary 2\n",
            "comes 2\n",
            "to 3\n",
            "me 4\n",
            "Speaking 3\n",
            "words 7\n",
            "wisdom 7\n",
            "let 30\n",
            "it 36\n",
            "be 41\n",
            "And 3\n",
            "my 1\n",
            "hour 1\n",
            "darkness 1\n",
            "she 1\n",
            "is 4\n",
            "standing 1\n",
            "right 1\n",
            "front 1\n",
            "Let 6\n",
            "Whisper 4\n",
            "when 2\n",
            "the 4\n",
            "broken 1\n",
            "hearted 1\n",
            "people 1\n",
            "living 1\n",
            "world 1\n",
            "agree 1\n",
            "There 4\n",
            "will 5\n",
            "an 4\n",
            "answer 4\n",
            "For 1\n",
            "though 1\n",
            "they 2\n",
            "may 1\n",
            "parted 1\n",
            "there 2\n",
            "still 2\n",
            "a 2\n",
            "chance 1\n",
            "that 2\n",
            "see 1\n",
            "night 1\n",
            "cloudy 1\n",
            "light 1\n",
            "shines 1\n",
            "on 1\n",
            "Shine 1\n",
            "until 1\n",
            "tomorrow 1\n",
            "wake 1\n",
            "up 1\n",
            "sound 1\n",
            "music 1\n",
            "yeah 2\n"
          ]
        }
      ]
    },
    {
      "cell_type": "markdown",
      "source": [
        "####**<font color=crimson>TASK 18.3 Commit to GitHub**</font>"
      ],
      "metadata": {
        "id": "1dJdfy4bwVO4"
      }
    },
    {
      "cell_type": "markdown",
      "source": [
        "#<font color=blue>**P19.**</font> ```count()``` – counting things made easy"
      ],
      "metadata": {
        "id": "28ygQlYJnZoA"
      }
    },
    {
      "cell_type": "markdown",
      "source": [
        "####**TASK P19.1** <font color= orange>**Complete Rosalind Problem #6  Counting DNA Nucleotides**</font>"
      ],
      "metadata": {
        "id": "CZ9tBWDmw4D-"
      }
    },
    {
      "cell_type": "code",
      "source": [
        "s = \"GGATAGCAAAGTTCTTTTAAAACGTGCCATGTCTTGAGATGTATTGCGAAACCAGGGGAGTGGATGTATCAATTCGAGTACTGCGTCTGGGAGACAGGCCCACCCAACAAACATACGTGAGTGCTCGTGTGACTCTAAGCACATGTACGTTGTTGGGGTTCATTACTGTTTAACTGGTCATCGATTATAAGTCATCATTGGTTTAGCATCGATTTTTAGGTCCCGACGATCATTATAATACATAGAGTGAGCGATCTTTAGCTCAACCTGAAAGATCGCTTCGAACTACTTCCTAAGCTACGAGATGACGCGTTCGCGTCAAGTACGGCCGGCAGAAGTCCCAACAAGCGCACTCCGAAGTCTATAGGTGTGTGTCTCACCTTCCAATACCACGGAGTCCAATTAACATCTCCAAGGTCCGTAACTCAAGATGTGGCGAGCCCTTCGTGCGTGCACCTGTTGCCAGACTCCAGTTGATGCCCGGAGGTAGTTCTTCATTCCCTATACGGGACGCTATAGACGCGCTGCTTACAAGTCCCTTTCCGGGGTCTAGCCACGCAGAGACAGCGGATCTATGTAGCAGTTTTTCAAATAGACTCTGGCTGCGAATAGTGCGTAATCATCAATAAGCTGGTCCTGAGAAGCTTAATCCATTTCGTCATTACAATCTATTGTTCCCGCACGACGGCAAGTGATAGCCACTGATCTGACCTTGAGGTAAGTAACTCTAGTGCCCCCCCAGGGTTATGACACTACTTCCCGGCCCGGCCCGCTCCACATCCGGACGTCCGAGCTGAGTCAACGGTTGAAAAATATTGAGTCAGGACGCGGCGCAGCAGTTCACGTGTTCGCTTAATAAATAGATAAGGCTATAAAAGTATCCTGAGCGCCTTCACATAGGAACCATACCCTTCTATCGGCTCCTCGGCGGCGGGATTTATGTTACGGTCTGGACTGAATTCTCCCTGCACCGGTACTTGTGTCAGCCACCACGGT\"\n",
        "\n",
        "# Count nucleotides\n",
        "a = s.count(\"A\")\n",
        "c = s.count(\"C\")\n",
        "g = s.count(\"G\")\n",
        "t = s.count(\"T\")\n",
        "\n",
        "print(a, c, g, t)\n"
      ],
      "metadata": {
        "id": "GlwS14zGxBIC",
        "colab": {
          "base_uri": "https://localhost:8080/"
        },
        "outputId": "e56aaefb-8218-48da-f5a2-b1e9d790f9ee"
      },
      "execution_count": null,
      "outputs": [
        {
          "output_type": "stream",
          "name": "stdout",
          "text": [
            "246 255 237 258\n"
          ]
        }
      ]
    },
    {
      "cell_type": "markdown",
      "source": [
        "####**TASK P19.2** Modify your code for the Rosalind #5 Dictionary problem so that it uses count( ) to count the words."
      ],
      "metadata": {
        "id": "rj-OWB6Jym5y"
      }
    },
    {
      "cell_type": "code",
      "source": [
        "# 1. Open the data file\n",
        "with open('rosalind_ininow.txt', 'r') as file:\n",
        "    # 2. Read the file (a single line of words)\n",
        "    data = file.read().strip()\n",
        "\n",
        "    # 3. Initiate an empty dictionary\n",
        "    word_count = {}\n",
        "\n",
        "    # 4. Loop over the file getting words one at a time\n",
        "    words = data.split()\n",
        "    for word in words:\n",
        "        # 5. Check each word to see if it is already in the dictionary\n",
        "        if word in word_count:\n",
        "            # 5a. if it is in the dictionary, add 1 to the value\n",
        "            word_count[word] += 1\n",
        "        else:\n",
        "            # 5b. if it is not in the dictionary, make it a new key with value = 1\n",
        "            word_count[word] = 1\n",
        "\n",
        "    # 6. Print the key, value pairs for the whole dictionary\n",
        "    for word, count in word_count.items():\n",
        "        print(word, count)"
      ],
      "metadata": {
        "id": "9H_S6jLnzfxR",
        "colab": {
          "base_uri": "https://localhost:8080/"
        },
        "outputId": "832e8c07-6bac-4e3f-ca3d-dbd92b40e8c3"
      },
      "execution_count": null,
      "outputs": [
        {
          "output_type": "stream",
          "name": "stdout",
          "text": [
            "When 1\n",
            "I 2\n",
            "find 1\n",
            "myself 1\n",
            "in 4\n",
            "times 1\n",
            "of 11\n",
            "trouble 1\n",
            "Mother 2\n",
            "Mary 2\n",
            "comes 2\n",
            "to 3\n",
            "me 4\n",
            "Speaking 3\n",
            "words 7\n",
            "wisdom 7\n",
            "let 30\n",
            "it 36\n",
            "be 41\n",
            "And 3\n",
            "my 1\n",
            "hour 1\n",
            "darkness 1\n",
            "she 1\n",
            "is 4\n",
            "standing 1\n",
            "right 1\n",
            "front 1\n",
            "Let 6\n",
            "Whisper 4\n",
            "when 2\n",
            "the 4\n",
            "broken 1\n",
            "hearted 1\n",
            "people 1\n",
            "living 1\n",
            "world 1\n",
            "agree 1\n",
            "There 4\n",
            "will 5\n",
            "an 4\n",
            "answer 4\n",
            "For 1\n",
            "though 1\n",
            "they 2\n",
            "may 1\n",
            "parted 1\n",
            "there 2\n",
            "still 2\n",
            "a 2\n",
            "chance 1\n",
            "that 2\n",
            "see 1\n",
            "night 1\n",
            "cloudy 1\n",
            "light 1\n",
            "shines 1\n",
            "on 1\n",
            "Shine 1\n",
            "until 1\n",
            "tomorrow 1\n",
            "wake 1\n",
            "up 1\n",
            "sound 1\n",
            "music 1\n",
            "yeah 2\n"
          ]
        }
      ]
    },
    {
      "cell_type": "markdown",
      "source": [
        "####**<font color=crimson>TASK 19.3 Commit to GitHub**</font>\n"
      ],
      "metadata": {
        "id": "RzMon_wAzg7D"
      }
    },
    {
      "cell_type": "markdown",
      "source": [
        "#<font color=blue>**P20.**</font> Installing biopython"
      ],
      "metadata": {
        "id": "-IB0c2gG0Z1O"
      }
    },
    {
      "cell_type": "code",
      "source": [
        "!pip install biopython"
      ],
      "metadata": {
        "colab": {
          "base_uri": "https://localhost:8080/"
        },
        "id": "pinPQdEn0mJM",
        "outputId": "de2102ec-eefd-421b-e709-f0d288d665d8"
      },
      "execution_count": 1,
      "outputs": [
        {
          "output_type": "stream",
          "name": "stdout",
          "text": [
            "Collecting biopython\n",
            "  Downloading biopython-1.85-cp312-cp312-manylinux_2_17_x86_64.manylinux2014_x86_64.whl.metadata (13 kB)\n",
            "Requirement already satisfied: numpy in /usr/local/lib/python3.12/dist-packages (from biopython) (2.0.2)\n",
            "Downloading biopython-1.85-cp312-cp312-manylinux_2_17_x86_64.manylinux2014_x86_64.whl (3.3 MB)\n",
            "\u001b[2K   \u001b[90m━━━━━━━━━━━━━━━━━━━━━━━━━━━━━━━━━━━━━━━━\u001b[0m \u001b[32m3.3/3.3 MB\u001b[0m \u001b[31m18.6 MB/s\u001b[0m eta \u001b[36m0:00:00\u001b[0m\n",
            "\u001b[?25hInstalling collected packages: biopython\n",
            "Successfully installed biopython-1.85\n"
          ]
        }
      ]
    },
    {
      "cell_type": "markdown",
      "source": [
        "##**Testing Biopython**"
      ],
      "metadata": {
        "id": "Kx2AgJDGFYFM"
      }
    },
    {
      "cell_type": "code",
      "metadata": {
        "colab": {
          "base_uri": "https://localhost:8080/"
        },
        "id": "5ccd6f0b",
        "outputId": "9b562fc9-c08b-4bb4-83f8-ce3ffaf5a5f0"
      },
      "source": [
        "try:\n",
        "  from Bio.Seq import Seq\n",
        "  my_sequence = Seq(\"ACGT\")\n",
        "  print(\"Biopython is installed correctly.\")\n",
        "except ImportError:\n",
        "  print(\"Biopython is not installed or there was an import error.\")\n",
        "except Exception as e:\n",
        "  print(f\"An error occurred: {e}\")"
      ],
      "execution_count": 2,
      "outputs": [
        {
          "output_type": "stream",
          "name": "stdout",
          "text": [
            "Biopython is installed correctly.\n"
          ]
        }
      ]
    },
    {
      "cell_type": "markdown",
      "source": [
        "#<font color=blue>**P21.**</font> Seq( ) – a function to define sequence objects"
      ],
      "metadata": {
        "id": "IGX-ThdQ3RuA"
      }
    },
    {
      "cell_type": "code",
      "source": [
        "from Bio.Seq import Seq\n",
        "\n",
        "my_sequence = Seq(\"GATGGAACTTGACTACGTAAATT\")\n",
        "print (my_sequence.complement( ))"
      ],
      "metadata": {
        "id": "ltZBr8mE4OhM",
        "colab": {
          "base_uri": "https://localhost:8080/"
        },
        "outputId": "59105ef4-66ee-4fe9-f248-7bb8e27d3ef4"
      },
      "execution_count": 5,
      "outputs": [
        {
          "output_type": "stream",
          "name": "stdout",
          "text": [
            "CTACCTTGAACTGATGCATTTAA\n"
          ]
        }
      ]
    },
    {
      "cell_type": "markdown",
      "source": [
        "####**TASK BP21.2** <font color=orange> **Complete Rosalind #7 Transcribing DNA into RNA**</font>"
      ],
      "metadata": {
        "id": "UXCuEFxg6Jxx"
      }
    },
    {
      "cell_type": "code",
      "metadata": {
        "colab": {
          "base_uri": "https://localhost:8080/"
        },
        "id": "14a0e9b7",
        "outputId": "c121253d-aa97-4f98-a7f0-e00eba83fe76"
      },
      "source": [
        "from Bio.Seq import Seq\n",
        "\n",
        "# Specify the filename\n",
        "filename = \"rosalind_rna.txt\" # Make sure this file exists and contains the DNA string\n",
        "\n",
        "try:\n",
        "    # Open and read the DNA string from the file\n",
        "    with open(filename, \"r\") as file:\n",
        "        dna_string = file.read().strip()\n",
        "\n",
        "    # Create a Seq object\n",
        "    dna_sequence = Seq(dna_string)\n",
        "\n",
        "    # Transcribe the DNA sequence into RNA\n",
        "    rna_sequence = dna_sequence.transcribe()\n",
        "\n",
        "    # Print the transcribed RNA string\n",
        "    print(rna_sequence)\n",
        "\n",
        "except FileNotFoundError:\n",
        "    print(f\"Error: The file '{filename}' was not found.\")\n",
        "except Exception as e:\n",
        "    print(f\"An error occurred: {e}\")"
      ],
      "execution_count": 10,
      "outputs": [
        {
          "output_type": "stream",
          "name": "stdout",
          "text": [
            "CCCGCAACAUCUCGGUUACAGCUGGACGUGACCGUUGCUUGAAUUGAACUAUGCGUCCUACAUUGAGCAAUUGUCUUUUGAGUGCGGAAUAGUCAUCUCGCACGUACCACUGGAGCCCACGCUGCCACGAAGUGAGGUUUUCACCCAAGCCCCUUCUCGCAGCAAGAAAACGAGGCGUCUAUCCAUCAGACAGGGACAUAUUUUAUGGGGAUAGCGCAGCCCCUCUCUUGAGUCCGCCCCCGCAGACGGGGACACCAGCACGCCUCGCCCUUUUUUAGCCUGCGAUGUCAGUCGGAAGCGUACCGUUAUUUGACCGUAGGGGUGUGCCGCGAUACCCGCCCGGGGGGCAGAUGGAAGAAUCCGGAGCAAAGUUUGGUUGACGACGGACGUCAUUACGCCUGCGCGGAGAAUAAUUAUGAGACACAAAGACAACUAGUCUCCAGUGGGGUAUGGCUGACAUAGUGCUCAGGGUGCGACCUAGAGAUAUUUACGAGCCCUCUAAUUAUAGACAGAGCACUGCAUAUGUUCCCGUGAGACCCGCUUUCGAGUCAACGUUAUCAAGCAGGCGUAGUCCCGGGGCAUCCGUCUGAACCGGACAAAACCACUACUACCAGUCAUGAACUCUAGGUUUCAGAUGAGUGCCGUGGGUACAGGAGCUUCUGAUAUCCCCGGUCCGGAGCCCCAGAGGAGACGCCCACGCCAAAUUAAUGGUUGGUUGGCGAUAAGUUAUUAAAAUACACCGAAGCAUCGACUGCUAUUGGCAAGCUCUAUCUCGCUUAAAUAAUACGUGGAUGGGAGAUACUGUCCGCCCCUUGAGAUGCGAAAGGCCCGUGCGCUGCCGGCGCUUUGCUGCUAUCUUAGGAGAGUCAAUUUCCUAGCCAUAAAGUAAUAUCUGCCUAGAUGCUGAACCUC\n"
          ]
        }
      ]
    },
    {
      "cell_type": "markdown",
      "source": [
        "####**TASK BP21.2** <font color=orange> **Complete Rosalind #8  Translating RNA into Protein**</font>"
      ],
      "metadata": {
        "id": "9P4_MaXp6O3n"
      }
    },
    {
      "cell_type": "code",
      "metadata": {
        "colab": {
          "base_uri": "https://localhost:8080/"
        },
        "id": "befe6155",
        "outputId": "7a9262ac-5318-4bcd-c9b4-6b7a5f023232"
      },
      "source": [
        "from Bio.Seq import Seq\n",
        "\n",
        "# Specify the filename\n",
        "filename = \"rosalind_protnew.txt\"  # Replace with your filename\n",
        "\n",
        "try:\n",
        "    # Open and read the RNA string from the file\n",
        "    with open(filename, \"r\") as file:\n",
        "        rna_string = file.read().strip()\n",
        "\n",
        "    # Create a Seq object from the RNA string\n",
        "    rna_sequence = Seq(rna_string)\n",
        "\n",
        "    # Translate the RNA sequence into a protein sequence, stopping at the first stop codon\n",
        "    protein_sequence = rna_sequence.translate(to_stop=True)\n",
        "\n",
        "    # Print the resulting protein sequence\n",
        "    print(protein_sequence)\n",
        "\n",
        "except FileNotFoundError:\n",
        "    print(f\"Error: The file '{filename}' was not found.\")\n",
        "except Exception as e:\n",
        "    print(f\"An error occurred: {e}\")"
      ],
      "execution_count": 16,
      "outputs": [
        {
          "output_type": "stream",
          "name": "stdout",
          "text": [
            "MMQPLCSRVSDCQYLPRLLPELDRIWHLTIQLRYQEGIPRSLGSKGVDHSYMTTNVLLSFQRKASGLSSGDRMSFQFQLCNFTRYRNYDLWIPIKADRTSIRTSPREQVALVVVCYAIPSLDPCAPGHSDTMEYAMLAACSQVVKYERSVVQAKFCVNRGFLDNLAYAWLVMTRGFAPTPYYTSGCRKTIIIMRTSAASLICYSAYRDGRTHWPKCRASLSRMLRTGLTHAFADSSSQAWYRRWSMCTRRVAEPAVTIDPWVYFPAAVDFSTDILSDRSQSIGAQPSPSVPIVAAVSYKINDYSFLVTFEKIVKARQHSECAWSLLESPQLFTPGFYNVLCVSTDGCDIRETVTFGESERSWPSGAISCRACQTLTGRCSPHRSATASYIISVRDGFCYDSLPPRAHKRRCLAPDLRAYISGPTISTVSGRINVYLDRYTNHFSRQPDRWYSGKVEWPVISHKMAFLVTTRRGGAGRLMITSRSQVDNLGVLMRLEMDYLGCHSCQAGLTQTRKASAVSPQCTLNLGNSMEKATFTNSNEVYLEEVYKCMISIGLYNTLMEPGSCVYAHTLQPGPNLFYECICDISTKVPPPKLQFRAGCQVWRALRTYQSSTPPATGDTDFIITFQISNHGRMAIGGTRTPTFRSVAYSSNRDMYAHQVQPTARALLVQQAYMILNIMPVRSRRYTAVLGKRVIPQRLVGTADRHLGISPRLFRSGKLGPSSVKRAAMSDTSTPPLQPIHDLVIKGKSIDEHSGRSRRPAGDFRSGELRVEGASQDTIMKADGQRPSPNTRTEAQNRWQLWTIYVLSRSGPETEATSPPSCSFCCAPNTYRPLLQSDDNQVSRAEKWLGPLRRTWLEHWSPSHTSVAHTIRMVTRTNRNYYNVYQGIVNRCRLLFLQIVDGFMRSGVTIPRLNDRGLEDRETMRSHAYMAPNHVGLCEKIAPSRGRQGNPVRIRYLAHSKTLCSRAFSPQRVCHSVPRGPSLRELADATRSAGSGLSFPSKEAQNLDNTYAYTPTDRGLVLGFRPSEAVRIIDRHGGEGVATPCHQRKLIVRTTNDAASTRICQRLHTSFRFGIKAFHDQEVQRSRFLARRSFFRTSGNDSPHTRSVTVNLRTLIKQTWNAQSTTCPDKAITHALSHRYSRPSRKPRYVTSLKRNGPHPEPSPNNASSQTISWGRNDDLWPRSWCSECPASISASLTMDEGKELRACSPNPMVEGAVTCNHELYRICGRVLVSFCVRHRFRAEHKRELSGCMPFELISLYSLSAQCYNVASTGPTTNKDALLRRLGNLLVKNLRQVTRSAPRGQIRSWRERIFFINCSGAPDLDIRPHFRVSVEAKCSYVSSTRLLGLVNLATDPLFLSLHGLRLMRAEVGHLEHFRGRAPKRVTLVTAYFGRSSVWASPIAYKVWDGDPRQPSVSKVALETQERHFGRYECYTDCSDTPLLLRCLQLKLNDDSGILSSQWTQGSSIQWYVLLQTTYSSSKRPMPQENFTGCILMPSQYQSRESTWRRRSLEGDLADFVCSNSPWSDMMGIECLFCFTNKVYDSTAVKYCPACSNEMALWPSVQNIFRAELVALLSCLCLRHSDRGIRSSHVGSVLYKMAISCTLAPYRSTPRTIGPQKTPRAAEISADVTQAIHLVRPGLTITTPYCAQCYFCASRGVTQRSLHESSSASTAVLATLYDGIRRVFLRQYARIGGGGAIGICRFVASARNPASHQPSRASADGLKRWSDDCDPILVTGSFTASHEVRMVAHNSEMCFNRIIPGSHTKSIRSVTSDTQDLSGIAYLQYRVGLNVQYRWRHVEAFVAGIRTNRSFSGQGRLVGRFRVYAVAEASDKPALYIARRSNCSGTQLENAGLCPAPSQLYWRIKAHGRRAAILYYLVEPLRSLWIRYIDRLSYNLRQRVGLHQWGDNYVSETVDDANQVIEACNRWTPSPGPKGEVQETCERAHRPMNNPKSLESFSTRGSPTSVMVFGLNHRFIHHAGRLTLVVNRMKQIDYHTKKLLCPQEGDKQKQLVYCKINAVAVWLPTHIVDLTSTDALRLAGGNRRCRRCNLAQDRLLCVVAARVSLTISLRVLEGTGMRIEVVPSKGLFTQLLHSVRHISTRKSGAPTSSPQKTIRQGDPFCYDVGLGKRRLMSGVSLSERPLSFARFNKIRKNTWIYAQRKSVFRIGVRQSVVNPTRHLPQYYPLISLESMTLRMTVIEAAMLDQTSEAWRMRCLNRHIAVRQGGMMLSSQASQPKHPASSPTPLGHLLYAYSRKGWPICMSDLYGPPYCQRCVSGKRIMALRSVGCCCNFGHSISPQPDTGGRARSHEVLLSTFTDLKCIRAAQDLTQKVNIPVFRLKIFSECGTRKTRIDESRANRLCAIGSRLHPKSGAGMITRAFHPCLLFIYLPGISASQCSKIRDPVFNTSLAITYYTFCICRRTLFLPTLEARCIPFKCLCQHSLSPYEPLLVLISHEQGANKPRVVANRIVHPLLANTLLINASDTSGLCRSSAPYTTEYSFKRVVFGYSATVEFVLKKLWSIGRYTLKQFQVPEIGVIPWHSPRALGTRKDRGLRHYSEVYCPLGSGSSLSVGSCKLKPIDVSESIGARGMTELFAGYLRRQSATQAAVRKAYSRYIHRALSINYQVFRSRARTTLKFPSLQQRLYGMKICQPTGQTGREQGPVSGAFDSVDLLCLSKAMSASAKKHICFYRPDRKPPAHSLTSRNFGASVQSRGVFMDPFNGPDRTLGILQISATLEAITHVHKRNTRGSGEDIGIPMCRFATQSGALDRLGPLVPRMRPSLLMYLLHIVRLYTGRSCSLCSHRESHCDDNRWHFFAWREAPGARRDLLKHMAPGKCR\n"
          ]
        }
      ]
    },
    {
      "cell_type": "markdown",
      "source": [
        "####**<font color=crimson>TASK 21.3 Commit to GitHub**</font>\n"
      ],
      "metadata": {
        "id": "dvtR4N7L6sZ_"
      }
    },
    {
      "cell_type": "markdown",
      "source": [
        "#<font color=blue>**P22.**</font> SeqIO – a function to parse( ) sequence files"
      ],
      "metadata": {
        "id": "bDJqtRiX3fEG"
      }
    },
    {
      "cell_type": "markdown",
      "source": [
        "####**TASK BP 22.1** Read in the practice dataset from Rosalind #9 and print the id of each sequence in the file."
      ],
      "metadata": {
        "id": "VKyMhLjx7nIo"
      }
    },
    {
      "cell_type": "code",
      "source": [
        "from Bio.SeqIO import parse\n",
        "\n",
        "# Parse the FASTA file and print each sequence ID\n",
        "for seq_record in parse(\"practice_9.txt\", \"fasta\"):\n",
        "    print(seq_record.id)"
      ],
      "metadata": {
        "colab": {
          "base_uri": "https://localhost:8080/"
        },
        "id": "t234AK23W4zP",
        "outputId": "8f439d1b-ba5b-4f4e-8e9a-97917cb4bb46"
      },
      "execution_count": 20,
      "outputs": [
        {
          "output_type": "stream",
          "name": "stdout",
          "text": [
            "Rosalind_6404\n",
            "Rosalind_5959\n",
            "Rosalind_0808\n"
          ]
        }
      ]
    },
    {
      "cell_type": "markdown",
      "source": [
        "**Rosalind Nine solution**"
      ],
      "metadata": {
        "id": "XXP8N_5QXtY9"
      }
    },
    {
      "cell_type": "code",
      "source": [
        "from Bio import SeqIO\n",
        "from Bio.SeqUtils import gc_fraction\n",
        "\n",
        "max_gc_id = None\n",
        "max_gc_content = 0.0\n",
        "\n",
        "for record in SeqIO.parse(\"rosalind_gc.txt\", \"fasta\"):\n",
        "    gc_content = gc_fraction(record.seq) * 100\n",
        "    if gc_content > max_gc_content:\n",
        "        max_gc_content = gc_content\n",
        "        max_gc_id = record.id\n",
        "\n",
        "print(max_gc_id)\n",
        "print(f\"{max_gc_content:.6f}\")"
      ],
      "metadata": {
        "colab": {
          "base_uri": "https://localhost:8080/"
        },
        "id": "Q326UYl8XyMi",
        "outputId": "5d9abfc1-7f21-43ec-dc39-c3d58fb58c03"
      },
      "execution_count": 21,
      "outputs": [
        {
          "output_type": "stream",
          "name": "stdout",
          "text": [
            "Rosalind_8516\n",
            "52.462527\n"
          ]
        }
      ]
    },
    {
      "cell_type": "code",
      "source": [
        "from Bio.SeqIO import parse\n",
        "\n",
        "for seq_record in parse(\"practice_9.txt\", \"fasta\"):\n",
        "    print (seq_record.id)\n",
        "    print (seq_record.seq)\n",
        "    print (len(seq_record.seq))\n",
        "    print (seq_record)"
      ],
      "metadata": {
        "colab": {
          "base_uri": "https://localhost:8080/"
        },
        "id": "xUi3JEoh7yJ6",
        "outputId": "825c50a9-65f1-4925-e775-242173634fcf"
      },
      "execution_count": 18,
      "outputs": [
        {
          "output_type": "stream",
          "name": "stdout",
          "text": [
            "Rosalind_6404\n",
            "CCTGCGGAAGATCGGCACTAGAATAGCCAGAACCGTTTCTCTGAGGCTTCCGGCCTTCCCTCCCACTAATAATTCTGAGG\n",
            "80\n",
            "ID: Rosalind_6404\n",
            "Name: Rosalind_6404\n",
            "Description: Rosalind_6404\n",
            "Number of features: 0\n",
            "Seq('CCTGCGGAAGATCGGCACTAGAATAGCCAGAACCGTTTCTCTGAGGCTTCCGGC...AGG')\n",
            "Rosalind_5959\n",
            "CCATCGGTAGCGCATCCTTAGTCCAATTAAGTCCCTATCCAGGCGCTCCGCCGAAGGTCTATATCCATTTGTCAGCAGACACGC\n",
            "84\n",
            "ID: Rosalind_5959\n",
            "Name: Rosalind_5959\n",
            "Description: Rosalind_5959\n",
            "Number of features: 0\n",
            "Seq('CCATCGGTAGCGCATCCTTAGTCCAATTAAGTCCCTATCCAGGCGCTCCGCCGA...CGC')\n",
            "Rosalind_0808\n",
            "CCACCCTCGTGGTATGGCTAGGCATTCAGGAACCGGAGAACGCTTCAGACCAGCCCGGACTGGGAACCTGCGGGCAGTAGGTGGAAT\n",
            "87\n",
            "ID: Rosalind_0808\n",
            "Name: Rosalind_0808\n",
            "Description: Rosalind_0808\n",
            "Number of features: 0\n",
            "Seq('CCACCCTCGTGGTATGGCTAGGCATTCAGGAACCGGAGAACGCTTCAGACCAGC...AAT')\n"
          ]
        }
      ]
    },
    {
      "cell_type": "markdown",
      "source": [
        "#<font color=blue>**P23.**</font> SeqUtils.GC( ) – a function to compute GC content"
      ],
      "metadata": {
        "id": "SAjUYBpe3pwi"
      }
    },
    {
      "cell_type": "code",
      "metadata": {
        "id": "ed4e542f",
        "colab": {
          "base_uri": "https://localhost:8080/"
        },
        "outputId": "f3535650-a811-4492-e56b-8aea787899d8"
      },
      "source": [
        "# Integer\n",
        "my_integer = 10\n",
        "print(my_integer)\n",
        "print(type(my_integer))\n",
        "\n",
        "# Float\n",
        "my_float = 3.14\n",
        "print(my_float)\n",
        "print(type(my_float))\n",
        "\n",
        "# String\n",
        "my_string = \"Hello, world!\"\n",
        "print(my_string)\n",
        "print(type(my_string))\n",
        "\n",
        "# Boolean\n",
        "my_boolean = True\n",
        "print(my_boolean)\n",
        "print(type(my_boolean))\n",
        "\n",
        "# List\n",
        "my_list = [1, 2, 3, \"a\", \"b\"]\n",
        "print(my_list)\n",
        "print(type(my_list))\n",
        "\n",
        "# Tuple\n",
        "my_tuple = (1, 2, 3, \"a\", \"b\")\n",
        "print(my_tuple)\n",
        "print(type(my_tuple))\n",
        "\n",
        "# Set\n",
        "my_set = {1, 2, 3, \"a\", \"b\"}\n",
        "print(my_set)\n",
        "print(type(my_set))\n",
        "\n",
        "# Dictionary\n",
        "my_dictionary = {\"name\": \"Alice\", \"age\": 30}\n",
        "print(my_dictionary)\n",
        "print(type(my_dictionary))"
      ],
      "execution_count": 19,
      "outputs": [
        {
          "output_type": "stream",
          "name": "stdout",
          "text": [
            "10\n",
            "<class 'int'>\n",
            "3.14\n",
            "<class 'float'>\n",
            "Hello, world!\n",
            "<class 'str'>\n",
            "True\n",
            "<class 'bool'>\n",
            "[1, 2, 3, 'a', 'b']\n",
            "<class 'list'>\n",
            "(1, 2, 3, 'a', 'b')\n",
            "<class 'tuple'>\n",
            "{'b', 1, 2, 3, 'a'}\n",
            "<class 'set'>\n",
            "{'name': 'Alice', 'age': 30}\n",
            "<class 'dict'>\n"
          ]
        }
      ]
    }
  ]
}